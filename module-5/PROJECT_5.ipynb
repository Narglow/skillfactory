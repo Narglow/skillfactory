{
  "cells": [
    {
      "cell_type": "code",
      "source": [
        "from google.colab import drive\n",
        "drive.mount('/content/drive')"
      ],
      "metadata": {
        "colab": {
          "base_uri": "https://localhost:8080/"
        },
        "id": "NVoMm0NoPOdD",
        "outputId": "1766f041-834d-4ce7-f1de-85e5412d7ccd"
      },
      "id": "NVoMm0NoPOdD",
      "execution_count": 2,
      "outputs": [
        {
          "output_type": "stream",
          "name": "stdout",
          "text": [
            "Drive already mounted at /content/drive; to attempt to forcibly remount, call drive.mount(\"/content/drive\", force_remount=True).\n"
          ]
        }
      ]
    },
    {
      "cell_type": "code",
      "execution_count": 3,
      "id": "33d960a9",
      "metadata": {
        "_cell_guid": "b1076dfc-b9ad-4769-8c92-a6c4dae69d19",
        "_uuid": "8f2839f25d086af736a60e9eeb907d3b93b6e0e5",
        "execution": {
          "iopub.execute_input": "2022-01-26T21:03:15.205057Z",
          "iopub.status.busy": "2022-01-26T21:03:15.203985Z",
          "iopub.status.idle": "2022-01-26T21:03:15.216633Z",
          "shell.execute_reply": "2022-01-26T21:03:15.217066Z",
          "shell.execute_reply.started": "2021-12-04T22:02:07.999586Z"
        },
        "papermill": {
          "duration": 0.038059,
          "end_time": "2022-01-26T21:03:15.217336",
          "exception": false,
          "start_time": "2022-01-26T21:03:15.179277",
          "status": "completed"
        },
        "tags": [],
        "id": "33d960a9"
      },
      "outputs": [],
      "source": [
        "# This Python 3 environment comes with many helpful analytics libraries installed\n",
        "# It is defined by the kaggle/python Docker image: https://github.com/kaggle/docker-python\n",
        "# For example, here's several helpful packages to load\n",
        "\n",
        "import numpy as np # linear algebra\n",
        "import pandas as pd # data processing, CSV file I/O (e.g. pd.read_csv)\n",
        "from matplotlib import pyplot as plt #Библиотеки для визуализации данных\n",
        "import seaborn as sns\n",
        "%matplotlib inline\n",
        "from datetime import datetime\n",
        "\n",
        "from sklearn.feature_selection import f_classif, mutual_info_classif \n",
        "from sklearn.preprocessing import LabelEncoder, OneHotEncoder, StandardScaler\n",
        "from sklearn.metrics import accuracy_score, precision_score, recall_score, f1_score, \\\n",
        " precision_recall_curve, confusion_matrix, roc_auc_score, roc_curve, ConfusionMatrixDisplay\n",
        "from sklearn.model_selection import train_test_split, GridSearchCV\n",
        "# Input data files are available in the read-only \"../input/\" directory\n",
        "# For example, running this (by clicking run or pressing Shift+Enter) will list all files under the input directory\n",
        "\n",
        "import os\n",
        "for dirname, _, filenames in os.walk('/kaggle/input'):\n",
        "    for filename in filenames:\n",
        "        print(os.path.join(dirname, filename))\n",
        "\n",
        "# You can write up to 20GB to the current directory (/kaggle/working/) that gets preserved as output when you create a version using \"Save & Run All\" \n",
        "# You can also write temporary files to /kaggle/temp/, but they won't be saved outside of the current session"
      ]
    },
    {
      "cell_type": "code",
      "execution_count": 4,
      "id": "25fe6627",
      "metadata": {
        "execution": {
          "iopub.execute_input": "2022-01-26T21:03:15.259943Z",
          "iopub.status.busy": "2022-01-26T21:03:15.259263Z",
          "iopub.status.idle": "2022-01-26T21:03:15.550900Z",
          "shell.execute_reply": "2022-01-26T21:03:15.550462Z",
          "shell.execute_reply.started": "2021-12-04T22:02:08.02391Z"
        },
        "papermill": {
          "duration": 0.313585,
          "end_time": "2022-01-26T21:03:15.551028",
          "exception": false,
          "start_time": "2022-01-26T21:03:15.237443",
          "status": "completed"
        },
        "tags": [],
        "id": "25fe6627"
      },
      "outputs": [],
      "source": [
        "#DATA_DIR = '/kaggle/input/sf-scoring/'\n",
        "#df_train = pd.read_csv(DATA_DIR +'/train.csv')\n",
        "#df_test = pd.read_csv(DATA_DIR +'/test.csv')\n",
        "#sample_submission = pd.read_csv(DATA_DIR+'/sample_submission.csv')"
      ]
    },
    {
      "cell_type": "code",
      "source": [
        "DATA_DIR = '/kaggle/input/sf-scoring/'\n",
        "df_train = pd.read_csv('/content/drive/MyDrive/train.csv')\n",
        "df_test = pd.read_csv('test.csv')\n",
        "sample_submission = pd.read_csv('sample_submission.csv')"
      ],
      "metadata": {
        "id": "0hmXUFKH8lH6"
      },
      "id": "0hmXUFKH8lH6",
      "execution_count": 5,
      "outputs": []
    },
    {
      "cell_type": "code",
      "execution_count": 6,
      "id": "69d3f18c",
      "metadata": {
        "execution": {
          "iopub.execute_input": "2022-01-26T21:03:15.598789Z",
          "iopub.status.busy": "2022-01-26T21:03:15.598107Z",
          "iopub.status.idle": "2022-01-26T21:03:15.602541Z",
          "shell.execute_reply": "2022-01-26T21:03:15.601978Z",
          "shell.execute_reply.started": "2021-12-04T22:02:08.349548Z"
        },
        "papermill": {
          "duration": 0.03121,
          "end_time": "2022-01-26T21:03:15.602665",
          "exception": false,
          "start_time": "2022-01-26T21:03:15.571455",
          "status": "completed"
        },
        "tags": [],
        "colab": {
          "base_uri": "https://localhost:8080/"
        },
        "id": "69d3f18c",
        "outputId": "f3a13592-4783-404f-c277-558c846b8f49"
      },
      "outputs": [
        {
          "output_type": "execute_result",
          "data": {
            "text/plain": [
              "(36349, 2)"
            ]
          },
          "metadata": {},
          "execution_count": 6
        }
      ],
      "source": [
        "sample_submission.shape"
      ]
    },
    {
      "cell_type": "code",
      "execution_count": 7,
      "id": "758324e0",
      "metadata": {
        "execution": {
          "iopub.execute_input": "2022-01-26T21:03:15.647975Z",
          "iopub.status.busy": "2022-01-26T21:03:15.645586Z",
          "iopub.status.idle": "2022-01-26T21:03:15.649756Z",
          "shell.execute_reply": "2022-01-26T21:03:15.650133Z",
          "shell.execute_reply.started": "2021-12-04T22:02:08.361719Z"
        },
        "papermill": {
          "duration": 0.026966,
          "end_time": "2022-01-26T21:03:15.650310",
          "exception": false,
          "start_time": "2022-01-26T21:03:15.623344",
          "status": "completed"
        },
        "tags": [],
        "colab": {
          "base_uri": "https://localhost:8080/"
        },
        "id": "758324e0",
        "outputId": "a5b05f6f-d20a-49c3-d21b-0155450f8b52"
      },
      "outputs": [
        {
          "output_type": "execute_result",
          "data": {
            "text/plain": [
              "(36349, 18)"
            ]
          },
          "metadata": {},
          "execution_count": 7
        }
      ],
      "source": [
        "df_test.shape"
      ]
    },
    {
      "cell_type": "code",
      "execution_count": 8,
      "id": "d0236e62",
      "metadata": {
        "execution": {
          "iopub.execute_input": "2022-01-26T21:03:15.698175Z",
          "iopub.status.busy": "2022-01-26T21:03:15.694043Z",
          "iopub.status.idle": "2022-01-26T21:03:15.737783Z",
          "shell.execute_reply": "2022-01-26T21:03:15.738278Z",
          "shell.execute_reply.started": "2021-12-04T22:02:08.375025Z"
        },
        "papermill": {
          "duration": 0.067593,
          "end_time": "2022-01-26T21:03:15.738447",
          "exception": false,
          "start_time": "2022-01-26T21:03:15.670854",
          "status": "completed"
        },
        "tags": [],
        "colab": {
          "base_uri": "https://localhost:8080/"
        },
        "id": "d0236e62",
        "outputId": "a1217c8d-af1c-4e9e-846b-ff3382d6dae6"
      },
      "outputs": [
        {
          "output_type": "stream",
          "name": "stdout",
          "text": [
            "<class 'pandas.core.frame.DataFrame'>\n",
            "RangeIndex: 73799 entries, 0 to 73798\n",
            "Data columns (total 19 columns):\n",
            " #   Column            Non-Null Count  Dtype  \n",
            "---  ------            --------------  -----  \n",
            " 0   client_id         73799 non-null  int64  \n",
            " 1   app_date          73799 non-null  object \n",
            " 2   education         73492 non-null  object \n",
            " 3   sex               73799 non-null  object \n",
            " 4   age               73799 non-null  int64  \n",
            " 5   car               73799 non-null  object \n",
            " 6   car_type          73799 non-null  object \n",
            " 7   decline_app_cnt   73799 non-null  int64  \n",
            " 8   good_work         73799 non-null  int64  \n",
            " 9   score_bki         73799 non-null  float64\n",
            " 10  bki_request_cnt   73799 non-null  int64  \n",
            " 11  region_rating     73799 non-null  int64  \n",
            " 12  home_address      73799 non-null  int64  \n",
            " 13  work_address      73799 non-null  int64  \n",
            " 14  income            73799 non-null  int64  \n",
            " 15  sna               73799 non-null  int64  \n",
            " 16  first_time        73799 non-null  int64  \n",
            " 17  foreign_passport  73799 non-null  object \n",
            " 18  default           73799 non-null  int64  \n",
            "dtypes: float64(1), int64(12), object(6)\n",
            "memory usage: 10.7+ MB\n"
          ]
        }
      ],
      "source": [
        "df_train.info()"
      ]
    },
    {
      "cell_type": "code",
      "execution_count": 9,
      "id": "18a0ca64",
      "metadata": {
        "execution": {
          "iopub.execute_input": "2022-01-26T21:03:15.784341Z",
          "iopub.status.busy": "2022-01-26T21:03:15.783787Z",
          "iopub.status.idle": "2022-01-26T21:03:15.802344Z",
          "shell.execute_reply": "2022-01-26T21:03:15.801872Z",
          "shell.execute_reply.started": "2021-12-04T22:02:08.447694Z"
        },
        "papermill": {
          "duration": 0.041921,
          "end_time": "2022-01-26T21:03:15.802472",
          "exception": false,
          "start_time": "2022-01-26T21:03:15.760551",
          "status": "completed"
        },
        "tags": [],
        "colab": {
          "base_uri": "https://localhost:8080/",
          "height": 270
        },
        "id": "18a0ca64",
        "outputId": "cf49fd11-e8c7-42ff-aca1-a33029687677"
      },
      "outputs": [
        {
          "output_type": "execute_result",
          "data": {
            "text/html": [
              "\n",
              "  <div id=\"df-459063b7-af5f-4d9a-be33-599bea1b6abd\">\n",
              "    <div class=\"colab-df-container\">\n",
              "      <div>\n",
              "<style scoped>\n",
              "    .dataframe tbody tr th:only-of-type {\n",
              "        vertical-align: middle;\n",
              "    }\n",
              "\n",
              "    .dataframe tbody tr th {\n",
              "        vertical-align: top;\n",
              "    }\n",
              "\n",
              "    .dataframe thead th {\n",
              "        text-align: right;\n",
              "    }\n",
              "</style>\n",
              "<table border=\"1\" class=\"dataframe\">\n",
              "  <thead>\n",
              "    <tr style=\"text-align: right;\">\n",
              "      <th></th>\n",
              "      <th>client_id</th>\n",
              "      <th>app_date</th>\n",
              "      <th>education</th>\n",
              "      <th>sex</th>\n",
              "      <th>age</th>\n",
              "      <th>car</th>\n",
              "      <th>car_type</th>\n",
              "      <th>decline_app_cnt</th>\n",
              "      <th>good_work</th>\n",
              "      <th>score_bki</th>\n",
              "      <th>bki_request_cnt</th>\n",
              "      <th>region_rating</th>\n",
              "      <th>home_address</th>\n",
              "      <th>work_address</th>\n",
              "      <th>income</th>\n",
              "      <th>sna</th>\n",
              "      <th>first_time</th>\n",
              "      <th>foreign_passport</th>\n",
              "      <th>default</th>\n",
              "    </tr>\n",
              "  </thead>\n",
              "  <tbody>\n",
              "    <tr>\n",
              "      <th>0</th>\n",
              "      <td>25905</td>\n",
              "      <td>01FEB2014</td>\n",
              "      <td>SCH</td>\n",
              "      <td>M</td>\n",
              "      <td>62</td>\n",
              "      <td>Y</td>\n",
              "      <td>Y</td>\n",
              "      <td>0</td>\n",
              "      <td>0</td>\n",
              "      <td>-2.008753</td>\n",
              "      <td>1</td>\n",
              "      <td>50</td>\n",
              "      <td>1</td>\n",
              "      <td>2</td>\n",
              "      <td>18000</td>\n",
              "      <td>4</td>\n",
              "      <td>1</td>\n",
              "      <td>N</td>\n",
              "      <td>0</td>\n",
              "    </tr>\n",
              "    <tr>\n",
              "      <th>1</th>\n",
              "      <td>63161</td>\n",
              "      <td>12MAR2014</td>\n",
              "      <td>SCH</td>\n",
              "      <td>F</td>\n",
              "      <td>59</td>\n",
              "      <td>N</td>\n",
              "      <td>N</td>\n",
              "      <td>0</td>\n",
              "      <td>0</td>\n",
              "      <td>-1.532276</td>\n",
              "      <td>3</td>\n",
              "      <td>50</td>\n",
              "      <td>2</td>\n",
              "      <td>3</td>\n",
              "      <td>19000</td>\n",
              "      <td>4</td>\n",
              "      <td>1</td>\n",
              "      <td>N</td>\n",
              "      <td>0</td>\n",
              "    </tr>\n",
              "    <tr>\n",
              "      <th>2</th>\n",
              "      <td>25887</td>\n",
              "      <td>01FEB2014</td>\n",
              "      <td>SCH</td>\n",
              "      <td>M</td>\n",
              "      <td>25</td>\n",
              "      <td>Y</td>\n",
              "      <td>N</td>\n",
              "      <td>2</td>\n",
              "      <td>0</td>\n",
              "      <td>-1.408142</td>\n",
              "      <td>1</td>\n",
              "      <td>80</td>\n",
              "      <td>1</td>\n",
              "      <td>2</td>\n",
              "      <td>30000</td>\n",
              "      <td>1</td>\n",
              "      <td>4</td>\n",
              "      <td>Y</td>\n",
              "      <td>0</td>\n",
              "    </tr>\n",
              "    <tr>\n",
              "      <th>3</th>\n",
              "      <td>16222</td>\n",
              "      <td>23JAN2014</td>\n",
              "      <td>SCH</td>\n",
              "      <td>F</td>\n",
              "      <td>53</td>\n",
              "      <td>N</td>\n",
              "      <td>N</td>\n",
              "      <td>0</td>\n",
              "      <td>0</td>\n",
              "      <td>-2.057471</td>\n",
              "      <td>2</td>\n",
              "      <td>50</td>\n",
              "      <td>2</td>\n",
              "      <td>3</td>\n",
              "      <td>10000</td>\n",
              "      <td>1</td>\n",
              "      <td>3</td>\n",
              "      <td>N</td>\n",
              "      <td>0</td>\n",
              "    </tr>\n",
              "    <tr>\n",
              "      <th>4</th>\n",
              "      <td>101655</td>\n",
              "      <td>18APR2014</td>\n",
              "      <td>GRD</td>\n",
              "      <td>M</td>\n",
              "      <td>48</td>\n",
              "      <td>N</td>\n",
              "      <td>N</td>\n",
              "      <td>0</td>\n",
              "      <td>1</td>\n",
              "      <td>-1.244723</td>\n",
              "      <td>1</td>\n",
              "      <td>60</td>\n",
              "      <td>2</td>\n",
              "      <td>3</td>\n",
              "      <td>30000</td>\n",
              "      <td>1</td>\n",
              "      <td>4</td>\n",
              "      <td>Y</td>\n",
              "      <td>0</td>\n",
              "    </tr>\n",
              "  </tbody>\n",
              "</table>\n",
              "</div>\n",
              "      <button class=\"colab-df-convert\" onclick=\"convertToInteractive('df-459063b7-af5f-4d9a-be33-599bea1b6abd')\"\n",
              "              title=\"Convert this dataframe to an interactive table.\"\n",
              "              style=\"display:none;\">\n",
              "        \n",
              "  <svg xmlns=\"http://www.w3.org/2000/svg\" height=\"24px\"viewBox=\"0 0 24 24\"\n",
              "       width=\"24px\">\n",
              "    <path d=\"M0 0h24v24H0V0z\" fill=\"none\"/>\n",
              "    <path d=\"M18.56 5.44l.94 2.06.94-2.06 2.06-.94-2.06-.94-.94-2.06-.94 2.06-2.06.94zm-11 1L8.5 8.5l.94-2.06 2.06-.94-2.06-.94L8.5 2.5l-.94 2.06-2.06.94zm10 10l.94 2.06.94-2.06 2.06-.94-2.06-.94-.94-2.06-.94 2.06-2.06.94z\"/><path d=\"M17.41 7.96l-1.37-1.37c-.4-.4-.92-.59-1.43-.59-.52 0-1.04.2-1.43.59L10.3 9.45l-7.72 7.72c-.78.78-.78 2.05 0 2.83L4 21.41c.39.39.9.59 1.41.59.51 0 1.02-.2 1.41-.59l7.78-7.78 2.81-2.81c.8-.78.8-2.07 0-2.86zM5.41 20L4 18.59l7.72-7.72 1.47 1.35L5.41 20z\"/>\n",
              "  </svg>\n",
              "      </button>\n",
              "      \n",
              "  <style>\n",
              "    .colab-df-container {\n",
              "      display:flex;\n",
              "      flex-wrap:wrap;\n",
              "      gap: 12px;\n",
              "    }\n",
              "\n",
              "    .colab-df-convert {\n",
              "      background-color: #E8F0FE;\n",
              "      border: none;\n",
              "      border-radius: 50%;\n",
              "      cursor: pointer;\n",
              "      display: none;\n",
              "      fill: #1967D2;\n",
              "      height: 32px;\n",
              "      padding: 0 0 0 0;\n",
              "      width: 32px;\n",
              "    }\n",
              "\n",
              "    .colab-df-convert:hover {\n",
              "      background-color: #E2EBFA;\n",
              "      box-shadow: 0px 1px 2px rgba(60, 64, 67, 0.3), 0px 1px 3px 1px rgba(60, 64, 67, 0.15);\n",
              "      fill: #174EA6;\n",
              "    }\n",
              "\n",
              "    [theme=dark] .colab-df-convert {\n",
              "      background-color: #3B4455;\n",
              "      fill: #D2E3FC;\n",
              "    }\n",
              "\n",
              "    [theme=dark] .colab-df-convert:hover {\n",
              "      background-color: #434B5C;\n",
              "      box-shadow: 0px 1px 3px 1px rgba(0, 0, 0, 0.15);\n",
              "      filter: drop-shadow(0px 1px 2px rgba(0, 0, 0, 0.3));\n",
              "      fill: #FFFFFF;\n",
              "    }\n",
              "  </style>\n",
              "\n",
              "      <script>\n",
              "        const buttonEl =\n",
              "          document.querySelector('#df-459063b7-af5f-4d9a-be33-599bea1b6abd button.colab-df-convert');\n",
              "        buttonEl.style.display =\n",
              "          google.colab.kernel.accessAllowed ? 'block' : 'none';\n",
              "\n",
              "        async function convertToInteractive(key) {\n",
              "          const element = document.querySelector('#df-459063b7-af5f-4d9a-be33-599bea1b6abd');\n",
              "          const dataTable =\n",
              "            await google.colab.kernel.invokeFunction('convertToInteractive',\n",
              "                                                     [key], {});\n",
              "          if (!dataTable) return;\n",
              "\n",
              "          const docLinkHtml = 'Like what you see? Visit the ' +\n",
              "            '<a target=\"_blank\" href=https://colab.research.google.com/notebooks/data_table.ipynb>data table notebook</a>'\n",
              "            + ' to learn more about interactive tables.';\n",
              "          element.innerHTML = '';\n",
              "          dataTable['output_type'] = 'display_data';\n",
              "          await google.colab.output.renderOutput(dataTable, element);\n",
              "          const docLink = document.createElement('div');\n",
              "          docLink.innerHTML = docLinkHtml;\n",
              "          element.appendChild(docLink);\n",
              "        }\n",
              "      </script>\n",
              "    </div>\n",
              "  </div>\n",
              "  "
            ],
            "text/plain": [
              "   client_id   app_date education  ... first_time  foreign_passport default\n",
              "0      25905  01FEB2014       SCH  ...          1                 N       0\n",
              "1      63161  12MAR2014       SCH  ...          1                 N       0\n",
              "2      25887  01FEB2014       SCH  ...          4                 Y       0\n",
              "3      16222  23JAN2014       SCH  ...          3                 N       0\n",
              "4     101655  18APR2014       GRD  ...          4                 Y       0\n",
              "\n",
              "[5 rows x 19 columns]"
            ]
          },
          "metadata": {},
          "execution_count": 9
        }
      ],
      "source": [
        "df_train.head(5)"
      ]
    },
    {
      "cell_type": "code",
      "execution_count": 10,
      "id": "5b10c53b",
      "metadata": {
        "execution": {
          "iopub.execute_input": "2022-01-26T21:03:15.872277Z",
          "iopub.status.busy": "2022-01-26T21:03:15.849752Z",
          "iopub.status.idle": "2022-01-26T21:03:15.880651Z",
          "shell.execute_reply": "2022-01-26T21:03:15.881382Z",
          "shell.execute_reply.started": "2021-12-04T22:02:08.472865Z"
        },
        "papermill": {
          "duration": 0.057319,
          "end_time": "2022-01-26T21:03:15.881571",
          "exception": false,
          "start_time": "2022-01-26T21:03:15.824252",
          "status": "completed"
        },
        "tags": [],
        "colab": {
          "base_uri": "https://localhost:8080/"
        },
        "id": "5b10c53b",
        "outputId": "eb0fdcc8-7d8a-48a7-f81d-f46f3cf65b5d"
      },
      "outputs": [
        {
          "output_type": "stream",
          "name": "stdout",
          "text": [
            "<class 'pandas.core.frame.DataFrame'>\n",
            "RangeIndex: 36349 entries, 0 to 36348\n",
            "Data columns (total 18 columns):\n",
            " #   Column            Non-Null Count  Dtype  \n",
            "---  ------            --------------  -----  \n",
            " 0   client_id         36349 non-null  int64  \n",
            " 1   app_date          36349 non-null  object \n",
            " 2   education         36178 non-null  object \n",
            " 3   sex               36349 non-null  object \n",
            " 4   age               36349 non-null  int64  \n",
            " 5   car               36349 non-null  object \n",
            " 6   car_type          36349 non-null  object \n",
            " 7   decline_app_cnt   36349 non-null  int64  \n",
            " 8   good_work         36349 non-null  int64  \n",
            " 9   score_bki         36349 non-null  float64\n",
            " 10  bki_request_cnt   36349 non-null  int64  \n",
            " 11  region_rating     36349 non-null  int64  \n",
            " 12  home_address      36349 non-null  int64  \n",
            " 13  work_address      36349 non-null  int64  \n",
            " 14  income            36349 non-null  int64  \n",
            " 15  sna               36349 non-null  int64  \n",
            " 16  first_time        36349 non-null  int64  \n",
            " 17  foreign_passport  36349 non-null  object \n",
            "dtypes: float64(1), int64(11), object(6)\n",
            "memory usage: 5.0+ MB\n"
          ]
        }
      ],
      "source": [
        "df_test.info()"
      ]
    },
    {
      "cell_type": "code",
      "execution_count": 11,
      "id": "e8d18262",
      "metadata": {
        "execution": {
          "iopub.execute_input": "2022-01-26T21:03:15.928920Z",
          "iopub.status.busy": "2022-01-26T21:03:15.928354Z",
          "iopub.status.idle": "2022-01-26T21:03:15.934669Z",
          "shell.execute_reply": "2022-01-26T21:03:15.935168Z",
          "shell.execute_reply.started": "2021-12-04T22:02:08.515055Z"
        },
        "papermill": {
          "duration": 0.030777,
          "end_time": "2022-01-26T21:03:15.935365",
          "exception": false,
          "start_time": "2022-01-26T21:03:15.904588",
          "status": "completed"
        },
        "tags": [],
        "colab": {
          "base_uri": "https://localhost:8080/",
          "height": 206
        },
        "id": "e8d18262",
        "outputId": "d066d3b4-1d1f-4764-ff69-78e1560dbb8a"
      },
      "outputs": [
        {
          "output_type": "execute_result",
          "data": {
            "text/html": [
              "\n",
              "  <div id=\"df-a07e2ff0-bf4d-432b-b759-0a46953b60c7\">\n",
              "    <div class=\"colab-df-container\">\n",
              "      <div>\n",
              "<style scoped>\n",
              "    .dataframe tbody tr th:only-of-type {\n",
              "        vertical-align: middle;\n",
              "    }\n",
              "\n",
              "    .dataframe tbody tr th {\n",
              "        vertical-align: top;\n",
              "    }\n",
              "\n",
              "    .dataframe thead th {\n",
              "        text-align: right;\n",
              "    }\n",
              "</style>\n",
              "<table border=\"1\" class=\"dataframe\">\n",
              "  <thead>\n",
              "    <tr style=\"text-align: right;\">\n",
              "      <th></th>\n",
              "      <th>client_id</th>\n",
              "      <th>default</th>\n",
              "    </tr>\n",
              "  </thead>\n",
              "  <tbody>\n",
              "    <tr>\n",
              "      <th>0</th>\n",
              "      <td>74835</td>\n",
              "      <td>0</td>\n",
              "    </tr>\n",
              "    <tr>\n",
              "      <th>1</th>\n",
              "      <td>17527</td>\n",
              "      <td>0</td>\n",
              "    </tr>\n",
              "    <tr>\n",
              "      <th>2</th>\n",
              "      <td>75683</td>\n",
              "      <td>0</td>\n",
              "    </tr>\n",
              "    <tr>\n",
              "      <th>3</th>\n",
              "      <td>26883</td>\n",
              "      <td>0</td>\n",
              "    </tr>\n",
              "    <tr>\n",
              "      <th>4</th>\n",
              "      <td>28862</td>\n",
              "      <td>0</td>\n",
              "    </tr>\n",
              "  </tbody>\n",
              "</table>\n",
              "</div>\n",
              "      <button class=\"colab-df-convert\" onclick=\"convertToInteractive('df-a07e2ff0-bf4d-432b-b759-0a46953b60c7')\"\n",
              "              title=\"Convert this dataframe to an interactive table.\"\n",
              "              style=\"display:none;\">\n",
              "        \n",
              "  <svg xmlns=\"http://www.w3.org/2000/svg\" height=\"24px\"viewBox=\"0 0 24 24\"\n",
              "       width=\"24px\">\n",
              "    <path d=\"M0 0h24v24H0V0z\" fill=\"none\"/>\n",
              "    <path d=\"M18.56 5.44l.94 2.06.94-2.06 2.06-.94-2.06-.94-.94-2.06-.94 2.06-2.06.94zm-11 1L8.5 8.5l.94-2.06 2.06-.94-2.06-.94L8.5 2.5l-.94 2.06-2.06.94zm10 10l.94 2.06.94-2.06 2.06-.94-2.06-.94-.94-2.06-.94 2.06-2.06.94z\"/><path d=\"M17.41 7.96l-1.37-1.37c-.4-.4-.92-.59-1.43-.59-.52 0-1.04.2-1.43.59L10.3 9.45l-7.72 7.72c-.78.78-.78 2.05 0 2.83L4 21.41c.39.39.9.59 1.41.59.51 0 1.02-.2 1.41-.59l7.78-7.78 2.81-2.81c.8-.78.8-2.07 0-2.86zM5.41 20L4 18.59l7.72-7.72 1.47 1.35L5.41 20z\"/>\n",
              "  </svg>\n",
              "      </button>\n",
              "      \n",
              "  <style>\n",
              "    .colab-df-container {\n",
              "      display:flex;\n",
              "      flex-wrap:wrap;\n",
              "      gap: 12px;\n",
              "    }\n",
              "\n",
              "    .colab-df-convert {\n",
              "      background-color: #E8F0FE;\n",
              "      border: none;\n",
              "      border-radius: 50%;\n",
              "      cursor: pointer;\n",
              "      display: none;\n",
              "      fill: #1967D2;\n",
              "      height: 32px;\n",
              "      padding: 0 0 0 0;\n",
              "      width: 32px;\n",
              "    }\n",
              "\n",
              "    .colab-df-convert:hover {\n",
              "      background-color: #E2EBFA;\n",
              "      box-shadow: 0px 1px 2px rgba(60, 64, 67, 0.3), 0px 1px 3px 1px rgba(60, 64, 67, 0.15);\n",
              "      fill: #174EA6;\n",
              "    }\n",
              "\n",
              "    [theme=dark] .colab-df-convert {\n",
              "      background-color: #3B4455;\n",
              "      fill: #D2E3FC;\n",
              "    }\n",
              "\n",
              "    [theme=dark] .colab-df-convert:hover {\n",
              "      background-color: #434B5C;\n",
              "      box-shadow: 0px 1px 3px 1px rgba(0, 0, 0, 0.15);\n",
              "      filter: drop-shadow(0px 1px 2px rgba(0, 0, 0, 0.3));\n",
              "      fill: #FFFFFF;\n",
              "    }\n",
              "  </style>\n",
              "\n",
              "      <script>\n",
              "        const buttonEl =\n",
              "          document.querySelector('#df-a07e2ff0-bf4d-432b-b759-0a46953b60c7 button.colab-df-convert');\n",
              "        buttonEl.style.display =\n",
              "          google.colab.kernel.accessAllowed ? 'block' : 'none';\n",
              "\n",
              "        async function convertToInteractive(key) {\n",
              "          const element = document.querySelector('#df-a07e2ff0-bf4d-432b-b759-0a46953b60c7');\n",
              "          const dataTable =\n",
              "            await google.colab.kernel.invokeFunction('convertToInteractive',\n",
              "                                                     [key], {});\n",
              "          if (!dataTable) return;\n",
              "\n",
              "          const docLinkHtml = 'Like what you see? Visit the ' +\n",
              "            '<a target=\"_blank\" href=https://colab.research.google.com/notebooks/data_table.ipynb>data table notebook</a>'\n",
              "            + ' to learn more about interactive tables.';\n",
              "          element.innerHTML = '';\n",
              "          dataTable['output_type'] = 'display_data';\n",
              "          await google.colab.output.renderOutput(dataTable, element);\n",
              "          const docLink = document.createElement('div');\n",
              "          docLink.innerHTML = docLinkHtml;\n",
              "          element.appendChild(docLink);\n",
              "        }\n",
              "      </script>\n",
              "    </div>\n",
              "  </div>\n",
              "  "
            ],
            "text/plain": [
              "   client_id  default\n",
              "0      74835        0\n",
              "1      17527        0\n",
              "2      75683        0\n",
              "3      26883        0\n",
              "4      28862        0"
            ]
          },
          "metadata": {},
          "execution_count": 11
        }
      ],
      "source": [
        "sample_submission.head(5)"
      ]
    },
    {
      "cell_type": "code",
      "execution_count": 12,
      "id": "76462cce",
      "metadata": {
        "execution": {
          "iopub.execute_input": "2022-01-26T21:03:15.982138Z",
          "iopub.status.busy": "2022-01-26T21:03:15.981589Z",
          "iopub.status.idle": "2022-01-26T21:03:15.990310Z",
          "shell.execute_reply": "2022-01-26T21:03:15.989771Z",
          "shell.execute_reply.started": "2021-12-04T22:02:08.525951Z"
        },
        "papermill": {
          "duration": 0.033627,
          "end_time": "2022-01-26T21:03:15.990425",
          "exception": false,
          "start_time": "2022-01-26T21:03:15.956798",
          "status": "completed"
        },
        "tags": [],
        "colab": {
          "base_uri": "https://localhost:8080/"
        },
        "id": "76462cce",
        "outputId": "65c6adaf-a0c4-421e-a1b5-32a454851b37"
      },
      "outputs": [
        {
          "output_type": "stream",
          "name": "stdout",
          "text": [
            "<class 'pandas.core.frame.DataFrame'>\n",
            "RangeIndex: 36349 entries, 0 to 36348\n",
            "Data columns (total 2 columns):\n",
            " #   Column     Non-Null Count  Dtype\n",
            "---  ------     --------------  -----\n",
            " 0   client_id  36349 non-null  int64\n",
            " 1   default    36349 non-null  int64\n",
            "dtypes: int64(2)\n",
            "memory usage: 568.1 KB\n"
          ]
        }
      ],
      "source": [
        "sample_submission.info()"
      ]
    },
    {
      "cell_type": "code",
      "execution_count": 13,
      "id": "6ce182c0",
      "metadata": {
        "execution": {
          "iopub.execute_input": "2022-01-26T21:03:16.041365Z",
          "iopub.status.busy": "2022-01-26T21:03:16.040761Z",
          "iopub.status.idle": "2022-01-26T21:03:16.088733Z",
          "shell.execute_reply": "2022-01-26T21:03:16.087968Z",
          "shell.execute_reply.started": "2021-12-04T22:02:08.543928Z"
        },
        "papermill": {
          "duration": 0.07585,
          "end_time": "2022-01-26T21:03:16.088966",
          "exception": false,
          "start_time": "2022-01-26T21:03:16.013116",
          "status": "completed"
        },
        "tags": [],
        "id": "6ce182c0"
      },
      "outputs": [],
      "source": [
        "# ВАЖНО! дря корректной обработки признаков объединяем трейн и тест в один датасет\n",
        "df_train['sample'] = 1 # помечаем где у нас трейн\n",
        "df_test['sample'] = 0  # помечаем где у нас тест\n",
        "df_test['default'] = 0 # в тесте у нас нет значения default, мы его должны предсказать, по этому пока просто заполняем нулями\n",
        "\n",
        "data = df_test.append(df_train, sort=False).reset_index(drop=True) # объединяем"
      ]
    },
    {
      "cell_type": "code",
      "execution_count": 14,
      "id": "f1dccfe1",
      "metadata": {
        "execution": {
          "iopub.execute_input": "2022-01-26T21:03:16.140666Z",
          "iopub.status.busy": "2022-01-26T21:03:16.140107Z",
          "iopub.status.idle": "2022-01-26T21:03:16.198049Z",
          "shell.execute_reply": "2022-01-26T21:03:16.198589Z",
          "shell.execute_reply.started": "2021-12-04T22:02:08.640315Z"
        },
        "papermill": {
          "duration": 0.08633,
          "end_time": "2022-01-26T21:03:16.198779",
          "exception": false,
          "start_time": "2022-01-26T21:03:16.112449",
          "status": "completed"
        },
        "tags": [],
        "colab": {
          "base_uri": "https://localhost:8080/"
        },
        "id": "f1dccfe1",
        "outputId": "eadd08a8-d8a9-4f14-b12f-9889b2dc1a5a"
      },
      "outputs": [
        {
          "output_type": "execute_result",
          "data": {
            "text/plain": [
              "client_id           110148\n",
              "app_date               120\n",
              "education                6\n",
              "sex                      2\n",
              "age                     52\n",
              "car                      2\n",
              "car_type                 2\n",
              "decline_app_cnt         24\n",
              "good_work                2\n",
              "score_bki           102618\n",
              "bki_request_cnt         40\n",
              "region_rating            7\n",
              "home_address             3\n",
              "work_address             3\n",
              "income                1207\n",
              "sna                      4\n",
              "first_time               4\n",
              "foreign_passport         2\n",
              "sample                   2\n",
              "default                  2\n",
              "dtype: int64"
            ]
          },
          "metadata": {},
          "execution_count": 14
        }
      ],
      "source": [
        "data.nunique(dropna=False)"
      ]
    },
    {
      "cell_type": "markdown",
      "source": [
        "# Предобработка данных"
      ],
      "metadata": {
        "id": "D4airlQN-AWH"
      },
      "id": "D4airlQN-AWH"
    },
    {
      "cell_type": "markdown",
      "source": [
        "Посмотрим на распределение нашей целевой переменной"
      ],
      "metadata": {
        "id": "xXm3wahN-RiU"
      },
      "id": "xXm3wahN-RiU"
    },
    {
      "cell_type": "code",
      "execution_count": 15,
      "id": "353c5df6",
      "metadata": {
        "execution": {
          "iopub.execute_input": "2022-01-26T21:03:16.321272Z",
          "iopub.status.busy": "2022-01-26T21:03:16.320583Z",
          "iopub.status.idle": "2022-01-26T21:03:16.534389Z",
          "shell.execute_reply": "2022-01-26T21:03:16.533507Z",
          "shell.execute_reply.started": "2021-12-04T22:02:08.733995Z"
        },
        "papermill": {
          "duration": 0.238897,
          "end_time": "2022-01-26T21:03:16.534544",
          "exception": false,
          "start_time": "2022-01-26T21:03:16.295647",
          "status": "completed"
        },
        "tags": [],
        "colab": {
          "base_uri": "https://localhost:8080/"
        },
        "id": "353c5df6",
        "outputId": "b0ddfa0c-f21b-45ff-fa3b-2f9facb865dd"
      },
      "outputs": [
        {
          "output_type": "stream",
          "name": "stdout",
          "text": [
            "Соотношение классов: 6.9 \n",
            "Процент недефолтных клиентов: 87.3\n"
          ]
        }
      ],
      "source": [
        "not_default = df_train['default'].value_counts()[0]\n",
        "ratio = not_default/(len(df_train)-not_default)\n",
        "print(f\"Соотношение классов: {ratio:.1f} \\nПроцент недефолтных клиентов: {100 * not_default/len(df_train):.1f}\")"
      ]
    },
    {
      "cell_type": "code",
      "source": [
        "df_train['default'].value_counts(ascending=True).plot(kind='barh')\n",
        "#Здесь мы можем наблюдать, что выборка не сбалансирована: недефеолтных клиентов больше почти в 7 раз\n",
        "#Можно сказать, что нам будет труднее искать \"плохих\" клиентов"
      ],
      "metadata": {
        "colab": {
          "base_uri": "https://localhost:8080/",
          "height": 284
        },
        "id": "eAb8VaIC9vQI",
        "outputId": "97565db2-c3d2-4a08-a2a5-bcccff0250f4"
      },
      "id": "eAb8VaIC9vQI",
      "execution_count": 16,
      "outputs": [
        {
          "output_type": "execute_result",
          "data": {
            "text/plain": [
              "<matplotlib.axes._subplots.AxesSubplot at 0x7fec4d14ab10>"
            ]
          },
          "metadata": {},
          "execution_count": 16
        },
        {
          "output_type": "display_data",
          "data": {
            "image/png": "[encoded data removed]",
            "text/plain": [
              "<Figure size 432x288 with 1 Axes>"
            ]
          },
          "metadata": {
            "needs_background": "light"
          }
        }
      ]
    },
    {
      "cell_type": "markdown",
      "source": [
        "Посмотрим на остальные данные "
      ],
      "metadata": {
        "id": "ta3POgIW-ZcE"
      },
      "id": "ta3POgIW-ZcE"
    },
    {
      "cell_type": "markdown",
      "source": [
        "Работа с пропусками"
      ],
      "metadata": {
        "id": "8AkT9lXPRBVe"
      },
      "id": "8AkT9lXPRBVe"
    },
    {
      "cell_type": "code",
      "source": [
        "data.isna().sum()\n",
        "#Пропуски есть только в образовании"
      ],
      "metadata": {
        "id": "f-V51Vu_Ramg",
        "colab": {
          "base_uri": "https://localhost:8080/"
        },
        "outputId": "8d179cc3-6ea2-4796-a2d5-0ec01b83c7c3"
      },
      "id": "f-V51Vu_Ramg",
      "execution_count": 17,
      "outputs": [
        {
          "output_type": "execute_result",
          "data": {
            "text/plain": [
              "client_id             0\n",
              "app_date              0\n",
              "education           478\n",
              "sex                   0\n",
              "age                   0\n",
              "car                   0\n",
              "car_type              0\n",
              "decline_app_cnt       0\n",
              "good_work             0\n",
              "score_bki             0\n",
              "bki_request_cnt       0\n",
              "region_rating         0\n",
              "home_address          0\n",
              "work_address          0\n",
              "income                0\n",
              "sna                   0\n",
              "first_time            0\n",
              "foreign_passport      0\n",
              "sample                0\n",
              "default               0\n",
              "dtype: int64"
            ]
          },
          "metadata": {},
          "execution_count": 17
        }
      ]
    },
    {
      "cell_type": "code",
      "source": [
        "data['education'].fillna(data['education'].mode()[0], inplace = True) "
      ],
      "metadata": {
        "id": "3k4yKwgDRccf"
      },
      "id": "3k4yKwgDRccf",
      "execution_count": 18,
      "outputs": []
    },
    {
      "cell_type": "markdown",
      "source": [
        "Добавим некоторые функции"
      ],
      "metadata": {
        "id": "EEnQEa22Rfqm"
      },
      "id": "EEnQEa22Rfqm"
    },
    {
      "cell_type": "code",
      "source": [
        "def borders(col):\n",
        "  \"\"\" Определяет квантили по признаку col \"\"\"\n",
        "\n",
        "  q1 = col.quantile(.25)\n",
        "  q3 = col.quantile(.75)\n",
        "  iqr = q3 - q1\n",
        "  low = q1 - 1.5 * iqr\n",
        "  high = q3 + 1.5 * iqr\n",
        "  return low, high"
      ],
      "metadata": {
        "id": "RXfzwcyBRjFI"
      },
      "id": "RXfzwcyBRjFI",
      "execution_count": 19,
      "outputs": []
    },
    {
      "cell_type": "code",
      "source": [
        "def check_outliers(col, data):\n",
        "    \"\"\"Определяет наличие выбросов в признаке col датасета data методом интерквантильного размаха\"\"\"\n",
        "    \n",
        "    low, high = borders(data[col])\n",
        "    outliers = ((data[col] < low) | (data[col] > high)).sum()\n",
        "    \n",
        "    if not outliers:\n",
        "        print(f\"В признаке '{col}' выбросов нет\\n\")\n",
        "        return\n",
        "\n",
        "    print(f\"Количество выбросов в признаке '{col}': {outliers}\")\n",
        "    print(f\"Границы выбросов: [{low}, {high}]\\n\")"
      ],
      "metadata": {
        "id": "09MppeKHSOa9"
      },
      "id": "09MppeKHSOa9",
      "execution_count": 20,
      "outputs": []
    },
    {
      "cell_type": "markdown",
      "source": [
        "## Работа с переменными"
      ],
      "metadata": {
        "id": "cDZqreoUTT2v"
      },
      "id": "cDZqreoUTT2v"
    },
    {
      "cell_type": "markdown",
      "source": [
        "### 1. Числовые признаки"
      ],
      "metadata": {
        "id": "x5mDigVfTW2r"
      },
      "id": "x5mDigVfTW2r"
    },
    {
      "cell_type": "markdown",
      "source": [
        "\n",
        "\n",
        "*   client_id - идентификатор\n",
        "*   age - возраст\n",
        "*   decline_app_cnt - количество отклонённых заявок\n",
        "*   score_bki - скоринговый балл\n",
        "*   bki_request_cnt - количество запросов в БКИ\n",
        "*   region_rating - рейтинг региона\n",
        "*   income - доход "
      ],
      "metadata": {
        "id": "7y1QRCyYTdCw"
      },
      "id": "7y1QRCyYTdCw"
    },
    {
      "cell_type": "code",
      "source": [
        "data['client_id'].nunique()"
      ],
      "metadata": {
        "colab": {
          "base_uri": "https://localhost:8080/"
        },
        "id": "3fv1rapn-stz",
        "outputId": "175c4294-ef3c-4d80-bb77-52b5eaefe1f2"
      },
      "id": "3fv1rapn-stz",
      "execution_count": 21,
      "outputs": [
        {
          "output_type": "execute_result",
          "data": {
            "text/plain": [
              "110148"
            ]
          },
          "metadata": {},
          "execution_count": 21
        }
      ]
    },
    {
      "cell_type": "code",
      "execution_count": 22,
      "id": "8b74f9d5",
      "metadata": {
        "execution": {
          "iopub.execute_input": "2022-01-26T21:03:16.609928Z",
          "iopub.status.busy": "2022-01-26T21:03:16.608952Z",
          "iopub.status.idle": "2022-01-26T21:03:16.622298Z",
          "shell.execute_reply": "2022-01-26T21:03:16.622902Z",
          "shell.execute_reply.started": "2021-12-04T22:02:08.956936Z"
        },
        "papermill": {
          "duration": 0.05332,
          "end_time": "2022-01-26T21:03:16.623102",
          "exception": false,
          "start_time": "2022-01-26T21:03:16.569782",
          "status": "completed"
        },
        "tags": [],
        "id": "8b74f9d5"
      },
      "outputs": [],
      "source": [
        "#'client_id' не несёт полезной информации для будущей модели\n",
        "data.drop(['client_id'], axis = 1, inplace=True)"
      ]
    },
    {
      "cell_type": "markdown",
      "source": [
        "Оставляем следующие признаки"
      ],
      "metadata": {
        "id": "t_Nf7pgSU2v9"
      },
      "id": "t_Nf7pgSU2v9"
    },
    {
      "cell_type": "code",
      "source": [
        "num_cols = ['age', 'score_bki', 'decline_app_cnt', 'region_rating', 'bki_request_cnt', 'income']"
      ],
      "metadata": {
        "id": "8UetKAEoUrCJ"
      },
      "id": "8UetKAEoUrCJ",
      "execution_count": 23,
      "outputs": []
    },
    {
      "cell_type": "markdown",
      "source": [
        "Посмотрим на них"
      ],
      "metadata": {
        "id": "jNQzR1dyUQcL"
      },
      "id": "jNQzR1dyUQcL"
    },
    {
      "cell_type": "code",
      "source": [
        "fig, axes = plt.subplots(2, 3, figsize=(25,15))\n",
        "\n",
        "for i, col in enumerate(num_cols):\n",
        "    hist = sns.histplot(data[col], bins=20, kde=True, ax=axes.flat[i])\n",
        "    hist.set(ylabel=\"\")"
      ],
      "metadata": {
        "colab": {
          "base_uri": "https://localhost:8080/",
          "height": 772
        },
        "id": "V3pX-hsNVJgF",
        "outputId": "898fd4a2-b1c5-4e49-e0d9-1a19dd24a332"
      },
      "id": "V3pX-hsNVJgF",
      "execution_count": 24,
      "outputs": [
        {
          "output_type": "display_data",
          "data": {
            "image/png": "[encoded data removed]",
            "text/plain": [
              "<Figure size 1800x1080 with 6 Axes>"
            ]
          },
          "metadata": {
            "needs_background": "light"
          }
        }
      ]
    },
    {
      "cell_type": "markdown",
      "source": [
        "Возраст - наблюдается смещение в лево. Требуется нормализация\n",
        "\n",
        "Скоринговый балл - видно нормальное распределение, нормализовать не стоит\n",
        "\n",
        "У рейтинга регионов тоже, в принципе, идет нормальное распределение\n",
        "\n",
        "У остальных пирзнаков имеется явное смещение, с ними нужно разбираться \n"
      ],
      "metadata": {
        "id": "rOcti-XgWGQ4"
      },
      "id": "rOcti-XgWGQ4"
    },
    {
      "cell_type": "code",
      "source": [
        "data.age = data.age.apply(lambda x: np.log(x+1))"
      ],
      "metadata": {
        "id": "NTv4ZshWZfBV"
      },
      "id": "NTv4ZshWZfBV",
      "execution_count": 25,
      "outputs": []
    },
    {
      "cell_type": "code",
      "source": [
        "fig, axes = plt.subplots(1, 3, figsize=(16, 4))\n",
        "for i, col in enumerate([\"decline_app_cnt\", \"bki_request_cnt\", \"income\"]):\n",
        "    num_cols.append(f\"{col}_log\")\n",
        "    data[f\"{col}_log\"] = np.log(data[col] + 1)\n",
        "    hist = sns.histplot(data[f\"{col}_log\"], bins=40, ax=axes.flat[i], kde=False)\n",
        "    hist.set(ylabel=\"\")\n",
        "\n"
      ],
      "metadata": {
        "colab": {
          "base_uri": "https://localhost:8080/",
          "height": 282
        },
        "id": "n0WNJiZoZxe8",
        "outputId": "4f59759b-d90e-4ad8-b324-eca3cb2a463e"
      },
      "id": "n0WNJiZoZxe8",
      "execution_count": 26,
      "outputs": [
        {
          "output_type": "display_data",
          "data": {
            "image/png": "[encoded data removed]",
            "text/plain": [
              "<Figure size 1152x288 with 3 Axes>"
            ]
          },
          "metadata": {
            "needs_background": "light"
          }
        }
      ]
    },
    {
      "cell_type": "code",
      "source": [
        "fig, axes = plt.subplots(3, 3, figsize=(18, 18))\n",
        "axes = axes.flatten()\n",
        "for i in range(len(num_cols)):\n",
        "    sns.boxplot(x=\"default\", y=num_cols[i], data=data[data[\"default\"]>=0], orient=\"v\", ax=axes[i])\n",
        "# видим, например, что у \"хороших\" клиентов в прошлом обычно не было отказов на выдачу кредитов\n",
        "# также у них более низкий скоринговый балл и меньше запросов в БКИ"
      ],
      "metadata": {
        "colab": {
          "base_uri": "https://localhost:8080/",
          "height": 1000
        },
        "id": "GctcwwS8ayWM",
        "outputId": "21dfbd45-9b25-4878-ae8a-98549156e735"
      },
      "id": "GctcwwS8ayWM",
      "execution_count": 27,
      "outputs": [
        {
          "output_type": "display_data",
          "data": {
            "image/png": "[encoded data removed]",
            "text/plain": [
              "<Figure size 1296x1296 with 9 Axes>"
            ]
          },
          "metadata": {
            "needs_background": "light"
          }
        }
      ]
    },
    {
      "cell_type": "markdown",
      "source": [
        "### Работа с выбросами\n",
        "\n",
        "Построив box-plot'ы можно заметить, что многие данные похожи на выбросы. Надо понять действительно ли это выбросы"
      ],
      "metadata": {
        "id": "GY4ZGeHMbBPt"
      },
      "id": "GY4ZGeHMbBPt"
    },
    {
      "cell_type": "code",
      "source": [
        "for col in num_cols:\n",
        "    check_outliers(col, data)"
      ],
      "metadata": {
        "colab": {
          "base_uri": "https://localhost:8080/"
        },
        "id": "nSuscVphbduO",
        "outputId": "e74720ba-2861-4246-f28c-8efa72d332e0"
      },
      "id": "nSuscVphbduO",
      "execution_count": 28,
      "outputs": [
        {
          "output_type": "stream",
          "name": "stdout",
          "text": [
            "В признаке 'age' выбросов нет\n",
            "\n",
            "Количество выбросов в признаке 'score_bki': 518\n",
            "Границы выбросов: [-3.299251946250001, -0.5290698762499992]\n",
            "\n",
            "Количество выбросов в признаке 'decline_app_cnt': 18677\n",
            "Границы выбросов: [0.0, 0.0]\n",
            "\n",
            "Количество выбросов в признаке 'region_rating': 17917\n",
            "Границы выбросов: [35.0, 75.0]\n",
            "\n",
            "Количество выбросов в признаке 'bki_request_cnt': 2636\n",
            "Границы выбросов: [-4.5, 7.5]\n",
            "\n",
            "Количество выбросов в признаке 'income': 7000\n",
            "Границы выбросов: [-22000.0, 90000.0]\n",
            "\n",
            "Количество выбросов в признаке 'decline_app_cnt_log': 18677\n",
            "Границы выбросов: [0.0, 0.0]\n",
            "\n",
            "Количество выбросов в признаке 'bki_request_cnt_log': 15\n",
            "Границы выбросов: [-2.0794415416798357, 3.465735902799726]\n",
            "\n",
            "Количество выбросов в признаке 'income_log': 2609\n",
            "Границы выбросов: [8.590378193705899, 12.092136480586621]\n",
            "\n"
          ]
        }
      ]
    },
    {
      "cell_type": "markdown",
      "source": [
        "### **decline_app_cnt**"
      ],
      "metadata": {
        "id": "k1HSUHx3buDV"
      },
      "id": "k1HSUHx3buDV"
    },
    {
      "cell_type": "code",
      "source": [
        "dac = data[\"decline_app_cnt\"]\n",
        "dac.mean(), dac.max()"
      ],
      "metadata": {
        "colab": {
          "base_uri": "https://localhost:8080/"
        },
        "id": "IHdrFCKsb1fA",
        "outputId": "35e43190-ea8d-4b79-b2c3-a5d0a732d71a"
      },
      "id": "IHdrFCKsb1fA",
      "execution_count": 29,
      "outputs": [
        {
          "output_type": "execute_result",
          "data": {
            "text/plain": [
              "(0.2732051421723499, 33)"
            ]
          },
          "metadata": {},
          "execution_count": 29
        }
      ]
    },
    {
      "cell_type": "markdown",
      "source": [
        "Разница между максимальным и средним значением больше чем в 100 раз\n",
        "\n",
        "\n",
        "\n",
        "---\n",
        "\n"
      ],
      "metadata": {
        "id": "EegOaKV1brhH"
      },
      "id": "EegOaKV1brhH"
    },
    {
      "cell_type": "code",
      "source": [
        "borders(dac)"
      ],
      "metadata": {
        "colab": {
          "base_uri": "https://localhost:8080/"
        },
        "id": "hyYzkk3Xb-C4",
        "outputId": "20c0ba43-51d9-48ae-8346-af69904816f4"
      },
      "id": "hyYzkk3Xb-C4",
      "execution_count": 30,
      "outputs": [
        {
          "output_type": "execute_result",
          "data": {
            "text/plain": [
              "(0.0, 0.0)"
            ]
          },
          "metadata": {},
          "execution_count": 30
        }
      ]
    },
    {
      "cell_type": "code",
      "source": [
        "dac.value_counts()"
      ],
      "metadata": {
        "colab": {
          "base_uri": "https://localhost:8080/"
        },
        "id": "YOPUe9iZcZ2p",
        "outputId": "12ff69be-e397-4ccd-f3a9-db5c81dbbd43"
      },
      "id": "YOPUe9iZcZ2p",
      "execution_count": 31,
      "outputs": [
        {
          "output_type": "execute_result",
          "data": {
            "text/plain": [
              "0     91471\n",
              "1     12500\n",
              "2      3622\n",
              "3      1365\n",
              "4       606\n",
              "5       255\n",
              "6       156\n",
              "7        58\n",
              "8        37\n",
              "9        29\n",
              "10       16\n",
              "11       10\n",
              "12        5\n",
              "13        4\n",
              "14        3\n",
              "16        3\n",
              "21        1\n",
              "30        1\n",
              "20        1\n",
              "19        1\n",
              "22        1\n",
              "33        1\n",
              "15        1\n",
              "24        1\n",
              "Name: decline_app_cnt, dtype: int64"
            ]
          },
          "metadata": {},
          "execution_count": 31
        }
      ]
    },
    {
      "cell_type": "markdown",
      "source": [
        "Стандартный подход говорит нам, что в этом признаке всё, кроме нулей - выбросы. Если мы заменим всё на нули, то признак потеряет какую-либо ценность для модели. Потому подойдём к выбросам умнее, сделав из этого признака бинарный (у нас также останется логарифмированный вариант признака): 0 - не было отказов, 1 - были."
      ],
      "metadata": {
        "id": "z0DYgt_nci_6"
      },
      "id": "z0DYgt_nci_6"
    },
    {
      "cell_type": "code",
      "source": [
        "dac[dac >= 1] = 1\n",
        "num_cols.remove(\"decline_app_cnt\")"
      ],
      "metadata": {
        "colab": {
          "base_uri": "https://localhost:8080/"
        },
        "id": "UVtuWQuKcsk6",
        "outputId": "45dfc37a-190e-45eb-fa00-d8def683d375"
      },
      "id": "UVtuWQuKcsk6",
      "execution_count": 32,
      "outputs": [
        {
          "output_type": "stream",
          "name": "stderr",
          "text": [
            "/usr/local/lib/python3.7/dist-packages/ipykernel_launcher.py:1: SettingWithCopyWarning: \n",
            "A value is trying to be set on a copy of a slice from a DataFrame\n",
            "\n",
            "See the caveats in the documentation: https://pandas.pydata.org/pandas-docs/stable/user_guide/indexing.html#returning-a-view-versus-a-copy\n",
            "  \"\"\"Entry point for launching an IPython kernel.\n"
          ]
        }
      ]
    },
    {
      "cell_type": "code",
      "source": [
        "data[\"decline_app_cnt\"].value_counts()\n",
        "# заметим, что мы изменили исходные данные (как и хотели)"
      ],
      "metadata": {
        "colab": {
          "base_uri": "https://localhost:8080/"
        },
        "id": "tKuoziEscuiQ",
        "outputId": "fd462b74-2312-46ff-b7f4-f9e3c915a5c6"
      },
      "id": "tKuoziEscuiQ",
      "execution_count": 33,
      "outputs": [
        {
          "output_type": "execute_result",
          "data": {
            "text/plain": [
              "0    91471\n",
              "1    18677\n",
              "Name: decline_app_cnt, dtype: int64"
            ]
          },
          "metadata": {},
          "execution_count": 33
        }
      ]
    },
    {
      "cell_type": "markdown",
      "source": [
        "income - действительно не нужный признак, его значимость повышается за счет нормализации, поэтому потом он скорее всего будет удален"
      ],
      "metadata": {
        "id": "vxbqO8T6h5re"
      },
      "id": "vxbqO8T6h5re"
    },
    {
      "cell_type": "markdown",
      "source": [
        "### 2. Бинарные признаки\n",
        "\n",
        "*    sex - пол клиента\n",
        "*    car - флаг наличия машины\n",
        "*    car_type - флаг машины-иномарки\n",
        "*    good_work - флаг наличия \"хорошей\" работы\n",
        "*    foreign_passport - флаг наличия иностранного паспорта\n"
      ],
      "metadata": {
        "id": "uoaLtLgbfv6U"
      },
      "id": "uoaLtLgbfv6U"
    },
    {
      "cell_type": "code",
      "source": [
        "bin_cols = ['sex', 'car', 'car_type', 'good_work', 'foreign_passport']\n",
        "# целевая переменная \"default\" и изменённая \"decline_app_cnt\" также являются бинарными"
      ],
      "metadata": {
        "id": "xFcnxHn9fvj-"
      },
      "id": "xFcnxHn9fvj-",
      "execution_count": 34,
      "outputs": []
    },
    {
      "cell_type": "code",
      "source": [
        "for i in bin_cols:\n",
        "  display(data[i].value_counts())"
      ],
      "metadata": {
        "colab": {
          "base_uri": "https://localhost:8080/",
          "height": 297
        },
        "id": "KGdjwr3MiRsc",
        "outputId": "e09a9328-0854-469e-8782-72cae9cd79e6"
      },
      "id": "KGdjwr3MiRsc",
      "execution_count": 35,
      "outputs": [
        {
          "output_type": "display_data",
          "data": {
            "text/plain": [
              "F    61836\n",
              "M    48312\n",
              "Name: sex, dtype: int64"
            ]
          },
          "metadata": {}
        },
        {
          "output_type": "display_data",
          "data": {
            "text/plain": [
              "N    74290\n",
              "Y    35858\n",
              "Name: car, dtype: int64"
            ]
          },
          "metadata": {}
        },
        {
          "output_type": "display_data",
          "data": {
            "text/plain": [
              "N    89140\n",
              "Y    21008\n",
              "Name: car_type, dtype: int64"
            ]
          },
          "metadata": {}
        },
        {
          "output_type": "display_data",
          "data": {
            "text/plain": [
              "0    91917\n",
              "1    18231\n",
              "Name: good_work, dtype: int64"
            ]
          },
          "metadata": {}
        },
        {
          "output_type": "display_data",
          "data": {
            "text/plain": [
              "N    93721\n",
              "Y    16427\n",
              "Name: foreign_passport, dtype: int64"
            ]
          },
          "metadata": {}
        }
      ]
    },
    {
      "cell_type": "code",
      "source": [
        "enc = LabelEncoder()\n",
        "for column in bin_cols:\n",
        "    data[column] = enc.fit_transform(data[column])"
      ],
      "metadata": {
        "id": "TewHwtfMijG6"
      },
      "id": "TewHwtfMijG6",
      "execution_count": 36,
      "outputs": []
    },
    {
      "cell_type": "markdown",
      "source": [
        "### 3. Категориальные признаки\n",
        "\n",
        "\n",
        " *   education - уровень образования\n",
        " *   home_address - категория домашнего адреса\n",
        " *   work_address - категория рабочего адреса\n",
        " *   sna - связь заемщика с клиентами банка\n",
        " *   first_time - давность наличия информации о клиенте"
      ],
      "metadata": {
        "id": "WrAeq7priuVz"
      },
      "id": "WrAeq7priuVz"
    },
    {
      "cell_type": "code",
      "source": [
        "cat_cols = ['education', 'first_time', 'sna', 'work_address', 'home_address']"
      ],
      "metadata": {
        "id": "7ouPTdx4HR8L"
      },
      "id": "7ouPTdx4HR8L",
      "execution_count": 37,
      "outputs": []
    },
    {
      "cell_type": "code",
      "source": [
        "data[cat_cols].info()"
      ],
      "metadata": {
        "colab": {
          "base_uri": "https://localhost:8080/"
        },
        "id": "uY08HSN4H7om",
        "outputId": "bf6f9c1b-f580-430c-a361-4d40f65e5be9"
      },
      "id": "uY08HSN4H7om",
      "execution_count": 38,
      "outputs": [
        {
          "output_type": "stream",
          "name": "stdout",
          "text": [
            "<class 'pandas.core.frame.DataFrame'>\n",
            "RangeIndex: 110148 entries, 0 to 110147\n",
            "Data columns (total 5 columns):\n",
            " #   Column        Non-Null Count   Dtype \n",
            "---  ------        --------------   ----- \n",
            " 0   education     110148 non-null  object\n",
            " 1   first_time    110148 non-null  int64 \n",
            " 2   sna           110148 non-null  int64 \n",
            " 3   work_address  110148 non-null  int64 \n",
            " 4   home_address  110148 non-null  int64 \n",
            "dtypes: int64(4), object(1)\n",
            "memory usage: 4.2+ MB\n"
          ]
        }
      ]
    },
    {
      "cell_type": "code",
      "source": [
        "fig, axes = plt.subplots(2, 3, figsize=(18, 18))\n",
        "axes = axes.flatten()\n",
        "for i in range(len(cat_cols)):\n",
        "    sns.barplot(x=cat_cols[i], y=\"default\", data=data[data[\"default\"]>=0], orient=\"v\", ax=axes[i])"
      ],
      "metadata": {
        "colab": {
          "base_uri": "https://localhost:8080/",
          "height": 1000
        },
        "id": "vQP62F4eGaVu",
        "outputId": "f77d2dc9-14a0-43d2-d91c-4c328c4f3cbe"
      },
      "id": "vQP62F4eGaVu",
      "execution_count": 39,
      "outputs": [
        {
          "output_type": "display_data",
          "data": {
            "image/png": "[encoded data removed]",
            "text/plain": [
              "<Figure size 1296x1296 with 6 Axes>"
            ]
          },
          "metadata": {
            "needs_background": "light"
          }
        }
      ]
    },
    {
      "cell_type": "markdown",
      "source": [
        "Смотря на эти графики можно сделать ледующие выводы:\n",
        "\n",
        "1. Более образованные - считаются более надежными заемщиками\n",
        "2. Чем старше сведения о заемщике, тем он более надежен\n",
        "3. Чем ближе связь заемщика с другими клиентами банка, тем он более надежен\n",
        "\n",
        "В целом, стоит попробовать закодировать все категориальные переменные с помощью LabelEncoder, а уже после разделения данных дпоплнительно закодировать с помощтю OneHotEncoder\n"
      ],
      "metadata": {
        "id": "L3621Z5xfwqJ"
      },
      "id": "L3621Z5xfwqJ"
    },
    {
      "cell_type": "code",
      "source": [
        "data['education'] = enc.fit_transform(data['education'])"
      ],
      "metadata": {
        "id": "dHA69zmVpkyL"
      },
      "id": "dHA69zmVpkyL",
      "execution_count": 40,
      "outputs": []
    },
    {
      "cell_type": "code",
      "execution_count": 41,
      "id": "4fb902ba",
      "metadata": {
        "execution": {
          "iopub.execute_input": "2022-01-26T21:03:16.807009Z",
          "iopub.status.busy": "2022-01-26T21:03:16.806126Z",
          "iopub.status.idle": "2022-01-26T21:03:17.985442Z",
          "shell.execute_reply": "2022-01-26T21:03:17.986003Z",
          "shell.execute_reply.started": "2021-12-04T22:02:09.020025Z"
        },
        "papermill": {
          "duration": 1.219001,
          "end_time": "2022-01-26T21:03:17.986188",
          "exception": false,
          "start_time": "2022-01-26T21:03:16.767187",
          "status": "completed"
        },
        "tags": [],
        "id": "4fb902ba"
      },
      "outputs": [],
      "source": [
        " \n",
        "columns = cat_cols\n",
        "\n",
        "for column in columns:\n",
        "    data[column] = enc.fit_transform(data[column])"
      ]
    },
    {
      "cell_type": "code",
      "source": [
        "data[\"app_date\"] = data[\"app_date\"].apply(lambda x: datetime.strptime(x, '%d%b%Y').timestamp()).astype(int)"
      ],
      "metadata": {
        "id": "EFTnyU-HaTxU"
      },
      "id": "EFTnyU-HaTxU",
      "execution_count": 42,
      "outputs": []
    },
    {
      "cell_type": "markdown",
      "source": [
        "\n",
        "# Feature engineering"
      ],
      "metadata": {
        "id": "9ltnG1e10yiV"
      },
      "id": "9ltnG1e10yiV"
    },
    {
      "cell_type": "code",
      "source": [
        "data['age_exp'] = data.age.apply(lambda x: np.exp(x)-1)\n",
        "mean_age_income = data.groupby('age_exp')['income'].mean().to_dict()\n",
        "data['mean_age_income'] = data['age_exp'].map(mean_age_income)\n"
      ],
      "metadata": {
        "id": "_scW5RNm3iSM"
      },
      "id": "_scW5RNm3iSM",
      "execution_count": 43,
      "outputs": []
    },
    {
      "cell_type": "code",
      "source": [
        "data.drop(['age_exp'],axis=1, inplace=True)"
      ],
      "metadata": {
        "id": "kAokGIT8AVIF"
      },
      "id": "kAokGIT8AVIF",
      "execution_count": 44,
      "outputs": []
    },
    {
      "cell_type": "markdown",
      "source": [
        "После разделения данных будут добавленны dummy- переменные на основе уровня образования"
      ],
      "metadata": {
        "id": "cuG4bbrH9RyL"
      },
      "id": "cuG4bbrH9RyL"
    },
    {
      "cell_type": "markdown",
      "source": [
        "# Матрица корреляций"
      ],
      "metadata": {
        "id": "gZeRZoJzt7UF"
      },
      "id": "gZeRZoJzt7UF"
    },
    {
      "cell_type": "code",
      "source": [
        "fig, axes = plt.subplots( figsize=(18, 18))\n",
        "\n",
        "sns.heatmap(data.corr().abs(), vmin=0, vmax=1)"
      ],
      "metadata": {
        "colab": {
          "base_uri": "https://localhost:8080/",
          "height": 1000
        },
        "id": "l8llB-Q0uEvY",
        "outputId": "e1ff058e-ec72-4e7d-cc24-82c894ac07b5"
      },
      "id": "l8llB-Q0uEvY",
      "execution_count": 45,
      "outputs": [
        {
          "output_type": "execute_result",
          "data": {
            "text/plain": [
              "<matplotlib.axes._subplots.AxesSubplot at 0x7fec3fe1f210>"
            ]
          },
          "metadata": {},
          "execution_count": 45
        },
        {
          "output_type": "display_data",
          "data": {
            "image/png": "[encoded data removed]",
            "text/plain": [
              "<Figure size 1296x1296 with 2 Axes>"
            ]
          },
          "metadata": {
            "needs_background": "light"
          }
        }
      ]
    },
    {
      "cell_type": "markdown",
      "source": [
        "Если посмотреть на данную матрицу корреляций, то можно сделать вывод, что у нас достаточно малая взаимосвязь между признаками в целом, однако некоторые признаки стоит убрать\n",
        "\n",
        "Начнем по порядку\n",
        "1. Есть достаточно сильная связь между наличием машины и ей типом, стоит убрать тип машины, так как если машины нет, то автоматически ей присваивается нулевая категория, при чем связь типа машины немного сильнее по сравнению с наличием машины\n",
        "2. decline_app_cnt_log так же стоит удалить, так как это нормализованный признак от decline_app_cnt, который мы сделали бинарным\n",
        "3. bki_request_cnt имеет очень сильное смещение в право, но нормализация немного поправила положение, и распределение по boxplot идет более вменяемо, поэтому умеет смысл оставить только нормализованный признак, так как при желании можем получить данные обратно\n",
        "4. Наблюдается сильная корреляция между категориями адреса жилья и адресом работы - скорее всего это связано с тем, что чем более лучшая категория работы - тем лучшую категорию жилья человек ожет себе позволить. Есть смысл оставить категорию рабочего адреса, так как более надежные компании могут себе позволить располокатьна на более качественных местах\n",
        "5. Уровень зарплаты имеет смещение, поэтому следует оставить нормализировнную версию данного параметра\n",
        "6. Есть взаимосвязь между наличием связей у заемщика с другими клиентами банка и когда заемщик впервые обратился в банк, скорее всего это из-за рекомендаций, на мой взгляд, можно оставить как есть, так как связь меньще 0.6"
      ],
      "metadata": {
        "id": "pu8tYpYeyJn1"
      },
      "id": "pu8tYpYeyJn1"
    },
    {
      "cell_type": "code",
      "source": [
        "data.drop(['car_type','decline_app_cnt_log', 'bki_request_cnt', 'home_address', 'income'],axis = 1, inplace=True)"
      ],
      "metadata": {
        "id": "L6KQAIHA0CTE"
      },
      "id": "L6KQAIHA0CTE",
      "execution_count": 46,
      "outputs": []
    },
    {
      "cell_type": "code",
      "source": [
        "fig, axes = plt.subplots( figsize=(18, 18))\n",
        "\n",
        "sns.heatmap(data.corr().abs(), vmin=0, vmax=1)"
      ],
      "metadata": {
        "colab": {
          "base_uri": "https://localhost:8080/",
          "height": 1000
        },
        "id": "sCPLT2Ii5hUL",
        "outputId": "2ddcd6ff-7f32-48c2-fdcf-6e33ea5b0f53"
      },
      "id": "sCPLT2Ii5hUL",
      "execution_count": 47,
      "outputs": [
        {
          "output_type": "execute_result",
          "data": {
            "text/plain": [
              "<matplotlib.axes._subplots.AxesSubplot at 0x7fec3fe69c50>"
            ]
          },
          "metadata": {},
          "execution_count": 47
        },
        {
          "output_type": "display_data",
          "data": {
            "image/png": "[encoded data removed]",
            "text/plain": [
              "<Figure size 1296x1296 with 2 Axes>"
            ]
          },
          "metadata": {
            "needs_background": "light"
          }
        }
      ]
    },
    {
      "cell_type": "markdown",
      "source": [
        "Обновим списки признаков"
      ],
      "metadata": {
        "id": "Wt9w3d8NxK8v"
      },
      "id": "Wt9w3d8NxK8v"
    },
    {
      "cell_type": "code",
      "source": [
        "cat_cols = ['first_time', 'sna', 'work_address']\n",
        "bin_cols = ['sex', 'car', 'good_work', 'foreign_passport', 'decline_app_cnt']\n",
        "num_cols = ['age', 'score_bki', 'region_rating', 'bki_request_cnt_log', 'income_log', 'mean_age_income', 'app_date']"
      ],
      "metadata": {
        "id": "SsWIgGmRxRrB"
      },
      "id": "SsWIgGmRxRrB",
      "execution_count": 48,
      "outputs": []
    },
    {
      "cell_type": "code",
      "execution_count": 49,
      "id": "52107e74",
      "metadata": {
        "execution": {
          "iopub.execute_input": "2022-01-26T21:03:18.060563Z",
          "iopub.status.busy": "2022-01-26T21:03:18.059988Z",
          "iopub.status.idle": "2022-01-26T21:03:18.077423Z",
          "shell.execute_reply": "2022-01-26T21:03:18.076531Z",
          "shell.execute_reply.started": "2021-12-04T22:02:09.522211Z"
        },
        "papermill": {
          "duration": 0.055541,
          "end_time": "2022-01-26T21:03:18.077649",
          "exception": false,
          "start_time": "2022-01-26T21:03:18.022108",
          "status": "completed"
        },
        "tags": [],
        "id": "52107e74",
        "outputId": "097ff99d-58c0-4057-a67d-bdcc5c56f9ff",
        "colab": {
          "base_uri": "https://localhost:8080/"
        }
      },
      "outputs": [
        {
          "output_type": "stream",
          "name": "stdout",
          "text": [
            "<class 'pandas.core.frame.DataFrame'>\n",
            "RangeIndex: 110148 entries, 0 to 110147\n",
            "Data columns (total 18 columns):\n",
            " #   Column               Non-Null Count   Dtype  \n",
            "---  ------               --------------   -----  \n",
            " 0   app_date             110148 non-null  int64  \n",
            " 1   education            110148 non-null  int64  \n",
            " 2   sex                  110148 non-null  int64  \n",
            " 3   age                  110148 non-null  float64\n",
            " 4   car                  110148 non-null  int64  \n",
            " 5   decline_app_cnt      110148 non-null  int64  \n",
            " 6   good_work            110148 non-null  int64  \n",
            " 7   score_bki            110148 non-null  float64\n",
            " 8   region_rating        110148 non-null  int64  \n",
            " 9   work_address         110148 non-null  int64  \n",
            " 10  sna                  110148 non-null  int64  \n",
            " 11  first_time           110148 non-null  int64  \n",
            " 12  foreign_passport     110148 non-null  int64  \n",
            " 13  sample               110148 non-null  int64  \n",
            " 14  default              110148 non-null  int64  \n",
            " 15  bki_request_cnt_log  110148 non-null  float64\n",
            " 16  income_log           110148 non-null  float64\n",
            " 17  mean_age_income      110148 non-null  float64\n",
            "dtypes: float64(5), int64(13)\n",
            "memory usage: 15.1 MB\n"
          ]
        }
      ],
      "source": [
        "data.info()"
      ]
    },
    {
      "cell_type": "code",
      "execution_count": 50,
      "id": "9f664b6d",
      "metadata": {
        "execution": {
          "iopub.execute_input": "2022-01-26T21:03:18.136477Z",
          "iopub.status.busy": "2022-01-26T21:03:18.128608Z",
          "iopub.status.idle": "2022-01-26T21:03:18.162424Z",
          "shell.execute_reply": "2022-01-26T21:03:18.162888Z",
          "shell.execute_reply.started": "2021-12-04T22:02:09.683004Z"
        },
        "papermill": {
          "duration": 0.060621,
          "end_time": "2022-01-26T21:03:18.163026",
          "exception": false,
          "start_time": "2022-01-26T21:03:18.102405",
          "status": "completed"
        },
        "tags": [],
        "id": "9f664b6d",
        "outputId": "f6fffc9b-d359-4382-fe9b-df130152bfc4",
        "colab": {
          "base_uri": "https://localhost:8080/",
          "height": 488
        }
      },
      "outputs": [
        {
          "output_type": "execute_result",
          "data": {
            "text/html": [
              "\n",
              "  <div id=\"df-a743fd61-aa62-4e7b-9e73-a0d098c000b7\">\n",
              "    <div class=\"colab-df-container\">\n",
              "      <div>\n",
              "<style scoped>\n",
              "    .dataframe tbody tr th:only-of-type {\n",
              "        vertical-align: middle;\n",
              "    }\n",
              "\n",
              "    .dataframe tbody tr th {\n",
              "        vertical-align: top;\n",
              "    }\n",
              "\n",
              "    .dataframe thead th {\n",
              "        text-align: right;\n",
              "    }\n",
              "</style>\n",
              "<table border=\"1\" class=\"dataframe\">\n",
              "  <thead>\n",
              "    <tr style=\"text-align: right;\">\n",
              "      <th></th>\n",
              "      <th>app_date</th>\n",
              "      <th>education</th>\n",
              "      <th>sex</th>\n",
              "      <th>age</th>\n",
              "      <th>car</th>\n",
              "      <th>decline_app_cnt</th>\n",
              "      <th>good_work</th>\n",
              "      <th>score_bki</th>\n",
              "      <th>region_rating</th>\n",
              "      <th>work_address</th>\n",
              "      <th>sna</th>\n",
              "      <th>first_time</th>\n",
              "      <th>foreign_passport</th>\n",
              "      <th>sample</th>\n",
              "      <th>default</th>\n",
              "      <th>bki_request_cnt_log</th>\n",
              "      <th>income_log</th>\n",
              "      <th>mean_age_income</th>\n",
              "    </tr>\n",
              "  </thead>\n",
              "  <tbody>\n",
              "    <tr>\n",
              "      <th>0</th>\n",
              "      <td>1395446400</td>\n",
              "      <td>1</td>\n",
              "      <td>1</td>\n",
              "      <td>3.401197</td>\n",
              "      <td>1</td>\n",
              "      <td>0</td>\n",
              "      <td>0</td>\n",
              "      <td>-2.271884</td>\n",
              "      <td>50</td>\n",
              "      <td>1</td>\n",
              "      <td>0</td>\n",
              "      <td>3</td>\n",
              "      <td>0</td>\n",
              "      <td>0</td>\n",
              "      <td>0</td>\n",
              "      <td>1.386294</td>\n",
              "      <td>10.819798</td>\n",
              "      <td>41395.856091</td>\n",
              "    </tr>\n",
              "    <tr>\n",
              "      <th>1</th>\n",
              "      <td>1390521600</td>\n",
              "      <td>3</td>\n",
              "      <td>0</td>\n",
              "      <td>3.688879</td>\n",
              "      <td>0</td>\n",
              "      <td>1</td>\n",
              "      <td>0</td>\n",
              "      <td>-1.504999</td>\n",
              "      <td>50</td>\n",
              "      <td>1</td>\n",
              "      <td>3</td>\n",
              "      <td>2</td>\n",
              "      <td>0</td>\n",
              "      <td>0</td>\n",
              "      <td>0</td>\n",
              "      <td>1.098612</td>\n",
              "      <td>8.517393</td>\n",
              "      <td>45984.161228</td>\n",
              "    </tr>\n",
              "    <tr>\n",
              "      <th>2</th>\n",
              "      <td>1395532800</td>\n",
              "      <td>4</td>\n",
              "      <td>1</td>\n",
              "      <td>3.931826</td>\n",
              "      <td>1</td>\n",
              "      <td>0</td>\n",
              "      <td>0</td>\n",
              "      <td>-1.691339</td>\n",
              "      <td>50</td>\n",
              "      <td>1</td>\n",
              "      <td>0</td>\n",
              "      <td>2</td>\n",
              "      <td>1</td>\n",
              "      <td>0</td>\n",
              "      <td>0</td>\n",
              "      <td>0.693147</td>\n",
              "      <td>10.308986</td>\n",
              "      <td>41288.659221</td>\n",
              "    </tr>\n",
              "    <tr>\n",
              "      <th>3</th>\n",
              "      <td>1391385600</td>\n",
              "      <td>3</td>\n",
              "      <td>1</td>\n",
              "      <td>4.043051</td>\n",
              "      <td>0</td>\n",
              "      <td>0</td>\n",
              "      <td>0</td>\n",
              "      <td>-2.374182</td>\n",
              "      <td>40</td>\n",
              "      <td>1</td>\n",
              "      <td>0</td>\n",
              "      <td>2</td>\n",
              "      <td>0</td>\n",
              "      <td>0</td>\n",
              "      <td>0</td>\n",
              "      <td>0.693147</td>\n",
              "      <td>9.741027</td>\n",
              "      <td>38007.592931</td>\n",
              "    </tr>\n",
              "    <tr>\n",
              "      <th>4</th>\n",
              "      <td>1391472000</td>\n",
              "      <td>1</td>\n",
              "      <td>0</td>\n",
              "      <td>3.663562</td>\n",
              "      <td>0</td>\n",
              "      <td>0</td>\n",
              "      <td>0</td>\n",
              "      <td>-2.487502</td>\n",
              "      <td>80</td>\n",
              "      <td>2</td>\n",
              "      <td>0</td>\n",
              "      <td>2</td>\n",
              "      <td>0</td>\n",
              "      <td>0</td>\n",
              "      <td>0</td>\n",
              "      <td>0.000000</td>\n",
              "      <td>11.695255</td>\n",
              "      <td>46022.711726</td>\n",
              "    </tr>\n",
              "    <tr>\n",
              "      <th>...</th>\n",
              "      <td>...</td>\n",
              "      <td>...</td>\n",
              "      <td>...</td>\n",
              "      <td>...</td>\n",
              "      <td>...</td>\n",
              "      <td>...</td>\n",
              "      <td>...</td>\n",
              "      <td>...</td>\n",
              "      <td>...</td>\n",
              "      <td>...</td>\n",
              "      <td>...</td>\n",
              "      <td>...</td>\n",
              "      <td>...</td>\n",
              "      <td>...</td>\n",
              "      <td>...</td>\n",
              "      <td>...</td>\n",
              "      <td>...</td>\n",
              "      <td>...</td>\n",
              "    </tr>\n",
              "    <tr>\n",
              "      <th>110143</th>\n",
              "      <td>1393891200</td>\n",
              "      <td>1</td>\n",
              "      <td>0</td>\n",
              "      <td>3.828641</td>\n",
              "      <td>0</td>\n",
              "      <td>0</td>\n",
              "      <td>0</td>\n",
              "      <td>-1.792064</td>\n",
              "      <td>50</td>\n",
              "      <td>1</td>\n",
              "      <td>3</td>\n",
              "      <td>3</td>\n",
              "      <td>0</td>\n",
              "      <td>1</td>\n",
              "      <td>0</td>\n",
              "      <td>1.386294</td>\n",
              "      <td>9.741027</td>\n",
              "      <td>46347.315884</td>\n",
              "    </tr>\n",
              "    <tr>\n",
              "      <th>110144</th>\n",
              "      <td>1395619200</td>\n",
              "      <td>3</td>\n",
              "      <td>1</td>\n",
              "      <td>3.737670</td>\n",
              "      <td>1</td>\n",
              "      <td>0</td>\n",
              "      <td>0</td>\n",
              "      <td>-2.058029</td>\n",
              "      <td>50</td>\n",
              "      <td>1</td>\n",
              "      <td>0</td>\n",
              "      <td>3</td>\n",
              "      <td>0</td>\n",
              "      <td>1</td>\n",
              "      <td>0</td>\n",
              "      <td>0.693147</td>\n",
              "      <td>11.156265</td>\n",
              "      <td>44509.743937</td>\n",
              "    </tr>\n",
              "    <tr>\n",
              "      <th>110145</th>\n",
              "      <td>1398124800</td>\n",
              "      <td>3</td>\n",
              "      <td>1</td>\n",
              "      <td>3.465736</td>\n",
              "      <td>0</td>\n",
              "      <td>0</td>\n",
              "      <td>0</td>\n",
              "      <td>-1.512635</td>\n",
              "      <td>80</td>\n",
              "      <td>2</td>\n",
              "      <td>1</td>\n",
              "      <td>1</td>\n",
              "      <td>0</td>\n",
              "      <td>1</td>\n",
              "      <td>0</td>\n",
              "      <td>1.609438</td>\n",
              "      <td>10.714440</td>\n",
              "      <td>43755.296033</td>\n",
              "    </tr>\n",
              "    <tr>\n",
              "      <th>110146</th>\n",
              "      <td>1388793600</td>\n",
              "      <td>3</td>\n",
              "      <td>0</td>\n",
              "      <td>3.401197</td>\n",
              "      <td>0</td>\n",
              "      <td>0</td>\n",
              "      <td>1</td>\n",
              "      <td>-1.479334</td>\n",
              "      <td>50</td>\n",
              "      <td>2</td>\n",
              "      <td>1</td>\n",
              "      <td>2</td>\n",
              "      <td>0</td>\n",
              "      <td>1</td>\n",
              "      <td>1</td>\n",
              "      <td>1.386294</td>\n",
              "      <td>9.472782</td>\n",
              "      <td>41395.856091</td>\n",
              "    </tr>\n",
              "    <tr>\n",
              "      <th>110147</th>\n",
              "      <td>1390435200</td>\n",
              "      <td>1</td>\n",
              "      <td>1</td>\n",
              "      <td>3.555348</td>\n",
              "      <td>0</td>\n",
              "      <td>0</td>\n",
              "      <td>0</td>\n",
              "      <td>-1.764711</td>\n",
              "      <td>50</td>\n",
              "      <td>2</td>\n",
              "      <td>0</td>\n",
              "      <td>2</td>\n",
              "      <td>0</td>\n",
              "      <td>1</td>\n",
              "      <td>0</td>\n",
              "      <td>1.098612</td>\n",
              "      <td>10.126671</td>\n",
              "      <td>44526.888388</td>\n",
              "    </tr>\n",
              "  </tbody>\n",
              "</table>\n",
              "<p>110148 rows × 18 columns</p>\n",
              "</div>\n",
              "      <button class=\"colab-df-convert\" onclick=\"convertToInteractive('df-a743fd61-aa62-4e7b-9e73-a0d098c000b7')\"\n",
              "              title=\"Convert this dataframe to an interactive table.\"\n",
              "              style=\"display:none;\">\n",
              "        \n",
              "  <svg xmlns=\"http://www.w3.org/2000/svg\" height=\"24px\"viewBox=\"0 0 24 24\"\n",
              "       width=\"24px\">\n",
              "    <path d=\"M0 0h24v24H0V0z\" fill=\"none\"/>\n",
              "    <path d=\"M18.56 5.44l.94 2.06.94-2.06 2.06-.94-2.06-.94-.94-2.06-.94 2.06-2.06.94zm-11 1L8.5 8.5l.94-2.06 2.06-.94-2.06-.94L8.5 2.5l-.94 2.06-2.06.94zm10 10l.94 2.06.94-2.06 2.06-.94-2.06-.94-.94-2.06-.94 2.06-2.06.94z\"/><path d=\"M17.41 7.96l-1.37-1.37c-.4-.4-.92-.59-1.43-.59-.52 0-1.04.2-1.43.59L10.3 9.45l-7.72 7.72c-.78.78-.78 2.05 0 2.83L4 21.41c.39.39.9.59 1.41.59.51 0 1.02-.2 1.41-.59l7.78-7.78 2.81-2.81c.8-.78.8-2.07 0-2.86zM5.41 20L4 18.59l7.72-7.72 1.47 1.35L5.41 20z\"/>\n",
              "  </svg>\n",
              "      </button>\n",
              "      \n",
              "  <style>\n",
              "    .colab-df-container {\n",
              "      display:flex;\n",
              "      flex-wrap:wrap;\n",
              "      gap: 12px;\n",
              "    }\n",
              "\n",
              "    .colab-df-convert {\n",
              "      background-color: #E8F0FE;\n",
              "      border: none;\n",
              "      border-radius: 50%;\n",
              "      cursor: pointer;\n",
              "      display: none;\n",
              "      fill: #1967D2;\n",
              "      height: 32px;\n",
              "      padding: 0 0 0 0;\n",
              "      width: 32px;\n",
              "    }\n",
              "\n",
              "    .colab-df-convert:hover {\n",
              "      background-color: #E2EBFA;\n",
              "      box-shadow: 0px 1px 2px rgba(60, 64, 67, 0.3), 0px 1px 3px 1px rgba(60, 64, 67, 0.15);\n",
              "      fill: #174EA6;\n",
              "    }\n",
              "\n",
              "    [theme=dark] .colab-df-convert {\n",
              "      background-color: #3B4455;\n",
              "      fill: #D2E3FC;\n",
              "    }\n",
              "\n",
              "    [theme=dark] .colab-df-convert:hover {\n",
              "      background-color: #434B5C;\n",
              "      box-shadow: 0px 1px 3px 1px rgba(0, 0, 0, 0.15);\n",
              "      filter: drop-shadow(0px 1px 2px rgba(0, 0, 0, 0.3));\n",
              "      fill: #FFFFFF;\n",
              "    }\n",
              "  </style>\n",
              "\n",
              "      <script>\n",
              "        const buttonEl =\n",
              "          document.querySelector('#df-a743fd61-aa62-4e7b-9e73-a0d098c000b7 button.colab-df-convert');\n",
              "        buttonEl.style.display =\n",
              "          google.colab.kernel.accessAllowed ? 'block' : 'none';\n",
              "\n",
              "        async function convertToInteractive(key) {\n",
              "          const element = document.querySelector('#df-a743fd61-aa62-4e7b-9e73-a0d098c000b7');\n",
              "          const dataTable =\n",
              "            await google.colab.kernel.invokeFunction('convertToInteractive',\n",
              "                                                     [key], {});\n",
              "          if (!dataTable) return;\n",
              "\n",
              "          const docLinkHtml = 'Like what you see? Visit the ' +\n",
              "            '<a target=\"_blank\" href=https://colab.research.google.com/notebooks/data_table.ipynb>data table notebook</a>'\n",
              "            + ' to learn more about interactive tables.';\n",
              "          element.innerHTML = '';\n",
              "          dataTable['output_type'] = 'display_data';\n",
              "          await google.colab.output.renderOutput(dataTable, element);\n",
              "          const docLink = document.createElement('div');\n",
              "          docLink.innerHTML = docLinkHtml;\n",
              "          element.appendChild(docLink);\n",
              "        }\n",
              "      </script>\n",
              "    </div>\n",
              "  </div>\n",
              "  "
            ],
            "text/plain": [
              "          app_date  education  ...  income_log  mean_age_income\n",
              "0       1395446400          1  ...   10.819798     41395.856091\n",
              "1       1390521600          3  ...    8.517393     45984.161228\n",
              "2       1395532800          4  ...   10.308986     41288.659221\n",
              "3       1391385600          3  ...    9.741027     38007.592931\n",
              "4       1391472000          1  ...   11.695255     46022.711726\n",
              "...            ...        ...  ...         ...              ...\n",
              "110143  1393891200          1  ...    9.741027     46347.315884\n",
              "110144  1395619200          3  ...   11.156265     44509.743937\n",
              "110145  1398124800          3  ...   10.714440     43755.296033\n",
              "110146  1388793600          3  ...    9.472782     41395.856091\n",
              "110147  1390435200          1  ...   10.126671     44526.888388\n",
              "\n",
              "[110148 rows x 18 columns]"
            ]
          },
          "metadata": {},
          "execution_count": 50
        }
      ],
      "source": [
        "data"
      ]
    },
    {
      "cell_type": "markdown",
      "source": [
        "# Подготовка данных и обучение модели"
      ],
      "metadata": {
        "id": "FX1pJAtJKtPN"
      },
      "id": "FX1pJAtJKtPN"
    },
    {
      "cell_type": "code",
      "execution_count": 51,
      "id": "4c52748c",
      "metadata": {
        "execution": {
          "iopub.execute_input": "2022-01-26T21:03:18.214425Z",
          "iopub.status.busy": "2022-01-26T21:03:18.213817Z",
          "iopub.status.idle": "2022-01-26T21:03:18.252660Z",
          "shell.execute_reply": "2022-01-26T21:03:18.252173Z",
          "shell.execute_reply.started": "2021-12-04T22:02:09.734382Z"
        },
        "papermill": {
          "duration": 0.06593,
          "end_time": "2022-01-26T21:03:18.252789",
          "exception": false,
          "start_time": "2022-01-26T21:03:18.186859",
          "status": "completed"
        },
        "tags": [],
        "id": "4c52748c"
      },
      "outputs": [],
      "source": [
        "# Теперь выделим тестовую часть\n",
        "train_data = data.query('sample == 1').drop(['sample'], axis=1)\n",
        "test_data = data.query('sample == 0').drop(['sample', 'default'], axis=1)"
      ]
    },
    {
      "cell_type": "code",
      "source": [
        "train_data = pd.get_dummies(train_data, columns=['education'], )\n",
        "test_data = pd.get_dummies(test_data, columns=['education'], )"
      ],
      "metadata": {
        "id": "9DjY4GywCN4r"
      },
      "id": "9DjY4GywCN4r",
      "execution_count": 52,
      "outputs": []
    },
    {
      "cell_type": "code",
      "source": [
        "train_data.columns"
      ],
      "metadata": {
        "colab": {
          "base_uri": "https://localhost:8080/"
        },
        "id": "5GF19JqNCtfB",
        "outputId": "f6e82231-cf5c-4367-e0dc-5de7838aec63"
      },
      "id": "5GF19JqNCtfB",
      "execution_count": 53,
      "outputs": [
        {
          "output_type": "execute_result",
          "data": {
            "text/plain": [
              "Index(['app_date', 'sex', 'age', 'car', 'decline_app_cnt', 'good_work',\n",
              "       'score_bki', 'region_rating', 'work_address', 'sna', 'first_time',\n",
              "       'foreign_passport', 'default', 'bki_request_cnt_log', 'income_log',\n",
              "       'mean_age_income', 'education_0', 'education_1', 'education_2',\n",
              "       'education_3', 'education_4'],\n",
              "      dtype='object')"
            ]
          },
          "metadata": {},
          "execution_count": 53
        }
      ]
    },
    {
      "cell_type": "code",
      "source": [
        "edu_cols = ['education_1', 'education_2', 'education_3', 'education_4']"
      ],
      "metadata": {
        "id": "NBjQww9mK28b"
      },
      "id": "NBjQww9mK28b",
      "execution_count": 54,
      "outputs": []
    },
    {
      "cell_type": "code",
      "source": [
        "# Стандартизация числовых переменных\n",
        "\n",
        "X_num = StandardScaler().fit_transform(train_data[num_cols].values)"
      ],
      "metadata": {
        "id": "VV5q1RdPBz6c"
      },
      "id": "VV5q1RdPBz6c",
      "execution_count": 55,
      "outputs": []
    },
    {
      "cell_type": "code",
      "source": [
        "X_cat = OneHotEncoder(sparse = False).fit_transform(train_data[cat_cols].values)"
      ],
      "metadata": {
        "id": "dt5WzsI4rAw1"
      },
      "id": "dt5WzsI4rAw1",
      "execution_count": 56,
      "outputs": []
    },
    {
      "cell_type": "code",
      "source": [
        "X = np.hstack([X_num, train_data[bin_cols].values, X_cat, train_data[edu_cols].values])\n",
        "y = train_data['default'].values  # наш таргет"
      ],
      "metadata": {
        "id": "UhRZJ_C0LC29"
      },
      "id": "UhRZJ_C0LC29",
      "execution_count": 57,
      "outputs": []
    },
    {
      "cell_type": "code",
      "execution_count": 58,
      "id": "e967cda9",
      "metadata": {
        "execution": {
          "iopub.execute_input": "2022-01-26T21:03:18.305601Z",
          "iopub.status.busy": "2022-01-26T21:03:18.305008Z",
          "iopub.status.idle": "2022-01-26T21:03:18.379173Z",
          "shell.execute_reply": "2022-01-26T21:03:18.378637Z",
          "shell.execute_reply.started": "2021-12-04T22:02:09.786815Z"
        },
        "papermill": {
          "duration": 0.102817,
          "end_time": "2022-01-26T21:03:18.379307",
          "exception": false,
          "start_time": "2022-01-26T21:03:18.276490",
          "status": "completed"
        },
        "tags": [],
        "id": "e967cda9"
      },
      "outputs": [],
      "source": [
        "# Воспользуемся специальной функцие train_test_split для разбивки тестовых данных\n",
        "\n",
        "\n",
        "# выделим 20% данных на валидацию (параметр test_size)\n",
        "X_train, X_test, y_train, y_test = train_test_split(X, y, test_size=0.2, random_state=42)"
      ]
    },
    {
      "cell_type": "code",
      "execution_count": 59,
      "id": "6b425c9c",
      "metadata": {
        "execution": {
          "iopub.execute_input": "2022-01-26T21:03:18.432306Z",
          "iopub.status.busy": "2022-01-26T21:03:18.431573Z",
          "iopub.status.idle": "2022-01-26T21:03:18.434355Z",
          "shell.execute_reply": "2022-01-26T21:03:18.434815Z",
          "shell.execute_reply.started": "2021-12-04T22:02:09.830024Z"
        },
        "papermill": {
          "duration": 0.03189,
          "end_time": "2022-01-26T21:03:18.434951",
          "exception": false,
          "start_time": "2022-01-26T21:03:18.403061",
          "status": "completed"
        },
        "tags": [],
        "id": "6b425c9c",
        "outputId": "ebdb856a-5671-4daf-b1e6-a6968fed7373",
        "colab": {
          "base_uri": "https://localhost:8080/"
        }
      },
      "outputs": [
        {
          "output_type": "execute_result",
          "data": {
            "text/plain": [
              "((59039, 27), (14760, 27), (59039,), (14760,))"
            ]
          },
          "metadata": {},
          "execution_count": 59
        }
      ],
      "source": [
        "# проверяем\n",
        "X_train.shape, X_test.shape, y_train.shape, y_test.shape"
      ]
    },
    {
      "cell_type": "code",
      "execution_count": 60,
      "id": "de5797a3",
      "metadata": {
        "execution": {
          "iopub.execute_input": "2022-01-26T21:03:18.486439Z",
          "iopub.status.busy": "2022-01-26T21:03:18.485710Z",
          "iopub.status.idle": "2022-01-26T21:03:18.677373Z",
          "shell.execute_reply": "2022-01-26T21:03:18.676829Z",
          "shell.execute_reply.started": "2021-12-04T22:02:09.837854Z"
        },
        "papermill": {
          "duration": 0.218934,
          "end_time": "2022-01-26T21:03:18.677492",
          "exception": false,
          "start_time": "2022-01-26T21:03:18.458558",
          "status": "completed"
        },
        "tags": [],
        "id": "de5797a3"
      },
      "outputs": [],
      "source": [
        "# Импортируем необходимые библиотеки:\n",
        "from sklearn.linear_model import LogisticRegression # инструмент для создания и обучения модели\n",
        "from sklearn import metrics # инструменты для оценки точности модели"
      ]
    },
    {
      "cell_type": "code",
      "execution_count": 61,
      "id": "c1593c2c",
      "metadata": {
        "execution": {
          "iopub.execute_input": "2022-01-26T21:03:18.732343Z",
          "iopub.status.busy": "2022-01-26T21:03:18.731841Z",
          "iopub.status.idle": "2022-01-26T21:03:19.183857Z",
          "shell.execute_reply": "2022-01-26T21:03:19.183336Z",
          "shell.execute_reply.started": "2021-12-04T22:02:09.875133Z"
        },
        "papermill": {
          "duration": 0.482853,
          "end_time": "2022-01-26T21:03:19.183998",
          "exception": false,
          "start_time": "2022-01-26T21:03:18.701145",
          "status": "completed"
        },
        "tags": [],
        "id": "c1593c2c"
      },
      "outputs": [],
      "source": [
        "logreg = LogisticRegression( max_iter=1000)\n",
        "logreg.fit(X_train, y_train)\n",
        "y_pred = logreg.predict(X_test)"
      ]
    },
    {
      "cell_type": "code",
      "source": [
        "y_pred_probs = logreg.predict_proba(X_test)[:, 1]"
      ],
      "metadata": {
        "id": "bL26iZFhMo4O"
      },
      "id": "bL26iZFhMo4O",
      "execution_count": 62,
      "outputs": []
    },
    {
      "cell_type": "code",
      "source": [
        "plt.rcParams[\"figure.figsize\"] = 8, 8\n",
        "fpr, tpr, _ = roc_curve(y_test, y_pred_probs)\n",
        "roc_auc = roc_auc_score(y_test, y_pred_probs)\n",
        "\n",
        "plt.plot([0, 1], label=\"baseline\", linestyle=\"--\")\n",
        "plt.plot(fpr, tpr, label=\"regression\")\n",
        "plt.title(f\"roc_auc = {roc_auc:0.3f}\")\n",
        "plt.ylabel(\"True Positive Rate\")\n",
        "plt.xlabel(\"False Positive Rate\")\n",
        "plt.legend(loc=\"lower right\");\n",
        "\n"
      ],
      "metadata": {
        "colab": {
          "base_uri": "https://localhost:8080/",
          "height": 513
        },
        "id": "K1HhPGLZM8s_",
        "outputId": "5335841a-9372-450b-88bf-0606966a433b"
      },
      "id": "K1HhPGLZM8s_",
      "execution_count": 63,
      "outputs": [
        {
          "output_type": "display_data",
          "data": {
            "image/png": "[encoded data removed]",
            "text/plain": [
              "<Figure size 576x576 with 1 Axes>"
            ]
          },
          "metadata": {
            "needs_background": "light"
          }
        }
      ]
    },
    {
      "cell_type": "code",
      "execution_count": 64,
      "id": "05cbb1e3",
      "metadata": {
        "execution": {
          "iopub.execute_input": "2022-01-26T21:03:19.269189Z",
          "iopub.status.busy": "2022-01-26T21:03:19.268383Z",
          "iopub.status.idle": "2022-01-26T21:03:19.286362Z",
          "shell.execute_reply": "2022-01-26T21:03:19.287366Z",
          "shell.execute_reply.started": "2021-12-04T22:03:10.059517Z"
        },
        "papermill": {
          "duration": 0.069477,
          "end_time": "2022-01-26T21:03:19.287577",
          "exception": false,
          "start_time": "2022-01-26T21:03:19.218100",
          "status": "completed"
        },
        "tags": [],
        "id": "05cbb1e3",
        "outputId": "973eb265-0f7c-474f-851c-acadeb882a83",
        "colab": {
          "base_uri": "https://localhost:8080/"
        }
      },
      "outputs": [
        {
          "output_type": "stream",
          "name": "stdout",
          "text": [
            "              precision    recall  f1-score   support\n",
            "\n",
            "           0       0.88      1.00      0.93     12933\n",
            "           1       0.42      0.02      0.04      1827\n",
            "\n",
            "    accuracy                           0.88     14760\n",
            "   macro avg       0.65      0.51      0.49     14760\n",
            "weighted avg       0.82      0.88      0.82     14760\n",
            "\n"
          ]
        }
      ],
      "source": [
        "from sklearn.metrics import classification_report\n",
        "classification_report = classification_report(y_test, y_pred)\n",
        "print(classification_report)"
      ]
    },
    {
      "cell_type": "markdown",
      "source": [
        "Получается, что алгоритм говорит, что 93% клинтам мможно выдавать кредит, что есть не хорошо."
      ],
      "metadata": {
        "id": "Aury-8hmTEZT"
      },
      "id": "Aury-8hmTEZT"
    },
    {
      "cell_type": "code",
      "source": [
        "cm = confusion_matrix(y_test, y_pred)\n",
        "disp = ConfusionMatrixDisplay(confusion_matrix=cm/np.sum(cm), display_labels=logreg.classes_) # или confusion_matrix=cm\n",
        "disp.plot(cmap=\"Blues\", colorbar=False, values_format=\".2%\") # или values_format=\".0f\"\n",
        "plt.suptitle(\"Confusion matrix\", x=.52, y=.91);"
      ],
      "metadata": {
        "colab": {
          "base_uri": "https://localhost:8080/",
          "height": 514
        },
        "id": "rX8MTPULPA2P",
        "outputId": "16150a8e-eaa4-4f1d-fbfa-90cc225b2189"
      },
      "id": "rX8MTPULPA2P",
      "execution_count": 65,
      "outputs": [
        {
          "output_type": "display_data",
          "data": {
            "image/png": "[encoded data removed]",
            "text/plain": [
              "<Figure size 576x576 with 1 Axes>"
            ]
          },
          "metadata": {
            "needs_background": "light"
          }
        }
      ]
    },
    {
      "cell_type": "code",
      "source": [
        "precision, recall, thresholds = precision_recall_curve(y_test, y_pred_probs)\n",
        "f_score = (2 * precision * recall / (precision + recall))[:-1] \n",
        "best_f_score = max(f_score)\n",
        "threshold = thresholds[np.argmax(f_score)]\n",
        "print(f\"threshold = {threshold}\\nbest_f_score = {best_f_score}\")"
      ],
      "metadata": {
        "colab": {
          "base_uri": "https://localhost:8080/"
        },
        "id": "9H7sP07iUZsu",
        "outputId": "f705c341-60df-4d51-d884-70e5282cca99"
      },
      "id": "9H7sP07iUZsu",
      "execution_count": 66,
      "outputs": [
        {
          "output_type": "stream",
          "name": "stdout",
          "text": [
            "threshold = 0.16112144437695797\n",
            "best_f_score = 0.3522120846961611\n"
          ]
        }
      ]
    },
    {
      "cell_type": "code",
      "source": [
        "plt.plot(thresholds, f_score)\n",
        "plt.plot(np.array([threshold] * 1000), np.linspace(0, best_f_score, 1000))"
      ],
      "metadata": {
        "colab": {
          "base_uri": "https://localhost:8080/",
          "height": 502
        },
        "id": "Xm1awIQ1bfvd",
        "outputId": "22f19596-5d94-4f94-b676-5d60e094ce93"
      },
      "id": "Xm1awIQ1bfvd",
      "execution_count": 67,
      "outputs": [
        {
          "output_type": "execute_result",
          "data": {
            "text/plain": [
              "[<matplotlib.lines.Line2D at 0x7fec400de2d0>]"
            ]
          },
          "metadata": {},
          "execution_count": 67
        },
        {
          "output_type": "display_data",
          "data": {
            "image/png": "[encoded data removed]",
            "text/plain": [
              "<Figure size 576x576 with 1 Axes>"
            ]
          },
          "metadata": {
            "needs_background": "light"
          }
        }
      ]
    },
    {
      "cell_type": "code",
      "source": [
        "y_pred_probs[y_pred_probs >= threshold] = 1\n",
        "y_pred_probs[y_pred_probs < threshold] = 0"
      ],
      "metadata": {
        "id": "8BmpDFzsbRo1"
      },
      "id": "8BmpDFzsbRo1",
      "execution_count": 68,
      "outputs": []
    },
    {
      "cell_type": "code",
      "source": [
        "cm = confusion_matrix(y_test, y_pred_probs)\n",
        "disp = ConfusionMatrixDisplay(confusion_matrix=cm/np.sum(cm), display_labels=logreg.classes_) \n",
        "disp.plot(cmap=\"Blues\", colorbar=False, values_format=\".2%\") \n",
        "plt.suptitle(\"Confusion matrix\", x=.52, y=.91);"
      ],
      "metadata": {
        "colab": {
          "base_uri": "https://localhost:8080/",
          "height": 514
        },
        "id": "NfTVs_GBbkbD",
        "outputId": "ad50a9b2-f94a-4e0f-af26-758a337e6615"
      },
      "id": "NfTVs_GBbkbD",
      "execution_count": 69,
      "outputs": [
        {
          "output_type": "display_data",
          "data": {
            "image/png": "[encoded data removed]",
            "text/plain": [
              "<Figure size 576x576 with 1 Axes>"
            ]
          },
          "metadata": {
            "needs_background": "light"
          }
        }
      ]
    },
    {
      "cell_type": "markdown",
      "source": [
        "Таким образом мы изменили порог дефолта, теперь мы отсеиваем чать \"хороших\" клиентов, но теперь меньше ошибаемся в дефолтных клиентах. необходимо будет посмотреть, как это будет работать в итоге\n"
      ],
      "metadata": {
        "id": "7bUKtQZQb5nA"
      },
      "id": "7bUKtQZQb5nA"
    },
    {
      "cell_type": "markdown",
      "source": [
        "# Гиперпараметры"
      ],
      "metadata": {
        "id": "i9jhxpWCcg5F"
      },
      "id": "i9jhxpWCcg5F"
    },
    {
      "cell_type": "code",
      "source": [
        "iter_ = 50\n",
        "epsilon_stop = 1e-3\n",
        "\n",
        "param_grid = [\n",
        "    {'penalty': ['l1'], \n",
        "     'solver': ['liblinear', 'lbfgs'], \n",
        "     'class_weight':['none', 'balanced'], \n",
        "     'multi_class': ['auto','ovr'], \n",
        "     'max_iter':[iter_],\n",
        "     'tol':[epsilon_stop]},\n",
        "    {'penalty': ['l2'], \n",
        "     'solver': ['newton-cg', 'lbfgs', 'liblinear', 'sag', 'saga'], \n",
        "     'class_weight':['none', 'balanced'], \n",
        "     'multi_class': ['auto','ovr'], \n",
        "     'max_iter':[iter_],\n",
        "     'tol':[epsilon_stop]},\n",
        "    {'penalty': ['none'], \n",
        "     'solver': ['newton-cg', 'lbfgs', 'sag', 'saga'], \n",
        "     'class_weight':['none', 'balanced'], \n",
        "     'multi_class': ['auto','ovr'], \n",
        "     'max_iter':[iter_],\n",
        "     'tol':[epsilon_stop]},\n",
        "]"
      ],
      "metadata": {
        "id": "nQxoBa3yghxl"
      },
      "id": "nQxoBa3yghxl",
      "execution_count": 70,
      "outputs": []
    },
    {
      "cell_type": "code",
      "source": [
        "gridsearch = GridSearchCV(logreg, param_grid, scoring='f1', n_jobs=-1, cv=5)\n",
        "gridsearch.fit(X_train, y_train)\n",
        "logreg = gridsearch.best_estimator_"
      ],
      "metadata": {
        "colab": {
          "base_uri": "https://localhost:8080/"
        },
        "id": "7vBjXNxhgn49",
        "outputId": "e9ba26d0-55c8-41e9-bcf3-f62f7a884bfa"
      },
      "id": "7vBjXNxhgn49",
      "execution_count": 71,
      "outputs": [
        {
          "output_type": "stream",
          "name": "stderr",
          "text": [
            "/usr/local/lib/python3.7/dist-packages/sklearn/model_selection/_validation.py:372: FitFailedWarning: \n",
            "40 fits failed out of a total of 220.\n",
            "The score on these train-test partitions for these parameters will be set to nan.\n",
            "If these failures are not expected, you can try to debug them by setting error_score='raise'.\n",
            "\n",
            "Below are more details about the failures:\n",
            "--------------------------------------------------------------------------------\n",
            "20 fits failed with the following error:\n",
            "Traceback (most recent call last):\n",
            "  File \"/usr/local/lib/python3.7/dist-packages/sklearn/model_selection/_validation.py\", line 680, in _fit_and_score\n",
            "    estimator.fit(X_train, y_train, **fit_params)\n",
            "  File \"/usr/local/lib/python3.7/dist-packages/sklearn/linear_model/_logistic.py\", line 1541, in fit\n",
            "    sample_weight=sample_weight,\n",
            "  File \"/usr/local/lib/python3.7/dist-packages/sklearn/svm/_base.py\", line 1150, in _fit_liblinear\n",
            "    class_weight_ = compute_class_weight(class_weight, classes=classes_, y=y)\n",
            "  File \"/usr/local/lib/python3.7/dist-packages/sklearn/utils/class_weight.py\", line 59, in compute_class_weight\n",
            "    \"class_weight must be dict, 'balanced', or None, got: %r\" % class_weight\n",
            "ValueError: class_weight must be dict, 'balanced', or None, got: 'none'\n",
            "\n",
            "--------------------------------------------------------------------------------\n",
            "20 fits failed with the following error:\n",
            "Traceback (most recent call last):\n",
            "  File \"/usr/local/lib/python3.7/dist-packages/sklearn/model_selection/_validation.py\", line 680, in _fit_and_score\n",
            "    estimator.fit(X_train, y_train, **fit_params)\n",
            "  File \"/usr/local/lib/python3.7/dist-packages/sklearn/linear_model/_logistic.py\", line 1461, in fit\n",
            "    solver = _check_solver(self.solver, self.penalty, self.dual)\n",
            "  File \"/usr/local/lib/python3.7/dist-packages/sklearn/linear_model/_logistic.py\", line 449, in _check_solver\n",
            "    % (solver, penalty)\n",
            "ValueError: Solver lbfgs supports only 'l2' or 'none' penalties, got l1 penalty.\n",
            "\n",
            "  warnings.warn(some_fits_failed_message, FitFailedWarning)\n",
            "/usr/local/lib/python3.7/dist-packages/sklearn/model_selection/_search.py:972: UserWarning: One or more of the test scores are non-finite: [       nan        nan        nan        nan 0.33768492        nan\n",
            " 0.33769592        nan 0.04679726 0.04703304        nan 0.04679726\n",
            " 0.04679726 0.04679726 0.04703304        nan 0.04679726 0.04679726\n",
            " 0.3376267  0.33763772 0.33766092 0.3376267  0.33763772 0.3376267\n",
            " 0.33763772 0.33766092 0.33767115 0.33763772 0.04728709 0.04728709\n",
            " 0.04728709 0.04728709 0.04728709 0.04728709 0.04728709 0.04728709\n",
            " 0.33773805 0.33767074 0.33774864 0.33773805 0.33773805 0.33767074\n",
            " 0.33763946 0.33772648]\n",
            "  category=UserWarning,\n"
          ]
        }
      ]
    },
    {
      "cell_type": "code",
      "source": [
        "best_parameters = logreg.get_params()\n",
        "for param_name in sorted(best_parameters.keys()):\n",
        "        print('\\t%s: %r' % (param_name, best_parameters[param_name]))"
      ],
      "metadata": {
        "colab": {
          "base_uri": "https://localhost:8080/"
        },
        "id": "YyWvUFiKgxLn",
        "outputId": "aacbd17f-1992-42b8-9df8-986c1621104f"
      },
      "id": "YyWvUFiKgxLn",
      "execution_count": 72,
      "outputs": [
        {
          "output_type": "stream",
          "name": "stdout",
          "text": [
            "\tC: 1.0\n",
            "\tclass_weight: 'balanced'\n",
            "\tdual: False\n",
            "\tfit_intercept: True\n",
            "\tintercept_scaling: 1\n",
            "\tl1_ratio: None\n",
            "\tmax_iter: 50\n",
            "\tmulti_class: 'auto'\n",
            "\tn_jobs: None\n",
            "\tpenalty: 'none'\n",
            "\trandom_state: None\n",
            "\tsolver: 'sag'\n",
            "\ttol: 0.001\n",
            "\tverbose: 0\n",
            "\twarm_start: False\n"
          ]
        }
      ]
    },
    {
      "cell_type": "code",
      "source": [
        "y_pred = logreg.predict(X_test)\n",
        "y_pred_probs = logreg.predict_proba(X_test)[:, 1]\n",
        "f1_score(y_pred, y_test)"
      ],
      "metadata": {
        "id": "T6y_JBOWnkOJ",
        "colab": {
          "base_uri": "https://localhost:8080/"
        },
        "outputId": "cf288b36-31dc-402e-9fc6-b04ff07ce89e"
      },
      "id": "T6y_JBOWnkOJ",
      "execution_count": 75,
      "outputs": [
        {
          "output_type": "execute_result",
          "data": {
            "text/plain": [
              "0.33256973453712435"
            ]
          },
          "metadata": {},
          "execution_count": 75
        }
      ]
    },
    {
      "cell_type": "code",
      "source": [
        "plt.rcParams[\"figure.figsize\"] = 8, 8\n",
        "fpr, tpr, _ = roc_curve(y_test, y_pred_probs)\n",
        "roc_auc = roc_auc_score(y_test, y_pred_probs)\n",
        "\n",
        "plt.plot([0, 1], label=\"baseline\", linestyle=\"--\")\n",
        "plt.plot(fpr, tpr, label=\"regression\")\n",
        "plt.title(f\"roc_auc = {roc_auc:0.3f}\")\n",
        "plt.ylabel(\"True Positive Rate\")\n",
        "plt.xlabel(\"False Positive Rate\")\n",
        "plt.legend(loc=\"lower right\");\n",
        "\n"
      ],
      "metadata": {
        "id": "Dz882OLQneZs",
        "colab": {
          "base_uri": "https://localhost:8080/",
          "height": 513
        },
        "outputId": "fc996df2-7b32-4397-b51a-267476cb27d5"
      },
      "id": "Dz882OLQneZs",
      "execution_count": 76,
      "outputs": [
        {
          "output_type": "display_data",
          "data": {
            "image/png": "[encoded data removed]",
            "text/plain": [
              "<Figure size 576x576 with 1 Axes>"
            ]
          },
          "metadata": {
            "needs_background": "light"
          }
        }
      ]
    },
    {
      "cell_type": "code",
      "source": [
        "precision, recall, thresholds = precision_recall_curve(y_test, y_pred_probs)\n",
        "f_score = (2 * precision * recall / (precision + recall))[:-1] \n",
        "best_f_score = max(f_score)\n",
        "threshold = thresholds[np.argmax(f_score)]\n",
        "print(f\"threshold = {threshold}\\nbest_f_score = {best_f_score}\")"
      ],
      "metadata": {
        "id": "j4T9a51doFpL",
        "colab": {
          "base_uri": "https://localhost:8080/"
        },
        "outputId": "3de7249f-ddab-474f-ebb5-f7563d868a83"
      },
      "id": "j4T9a51doFpL",
      "execution_count": 77,
      "outputs": [
        {
          "output_type": "stream",
          "name": "stdout",
          "text": [
            "threshold = 0.5679018754546701\n",
            "best_f_score = 0.3510875149854427\n"
          ]
        }
      ]
    },
    {
      "cell_type": "markdown",
      "source": [
        "# Финальное предсказание"
      ],
      "metadata": {
        "id": "QSaJAi8fpaG5"
      },
      "id": "QSaJAi8fpaG5"
    },
    {
      "cell_type": "code",
      "source": [
        "# Стандартизация числовых переменных\n",
        "\n",
        "X_num = StandardScaler().fit_transform(test_data[num_cols].values)"
      ],
      "metadata": {
        "id": "ypk2yOEQlh9G"
      },
      "execution_count": 78,
      "outputs": [],
      "id": "ypk2yOEQlh9G"
    },
    {
      "cell_type": "code",
      "source": [
        "X_cat = OneHotEncoder(sparse = False).fit_transform(test_data[cat_cols].values)"
      ],
      "metadata": {
        "id": "bgm-HAE6lh9I"
      },
      "execution_count": 79,
      "outputs": [],
      "id": "bgm-HAE6lh9I"
    },
    {
      "cell_type": "code",
      "source": [
        "X_test = np.hstack([X_num, test_data[bin_cols].values, X_cat, test_data[edu_cols].values])\n"
      ],
      "metadata": {
        "id": "-cIcKu4Elh9J"
      },
      "execution_count": 80,
      "outputs": [],
      "id": "-cIcKu4Elh9J"
    },
    {
      "cell_type": "code",
      "source": [
        "y_pred = logreg.predict_proba(X_test)[:, 1]\n",
        "y_pred[y_pred >= threshold] = 1\n",
        "y_pred[y_pred < threshold] = 0 "
      ],
      "metadata": {
        "id": "e1cAn69Zpobz"
      },
      "id": "e1cAn69Zpobz",
      "execution_count": 81,
      "outputs": []
    },
    {
      "cell_type": "code",
      "execution_count": 82,
      "id": "c8eab75f",
      "metadata": {
        "execution": {
          "iopub.execute_input": "2022-01-26T21:03:20.017323Z",
          "iopub.status.busy": "2022-01-26T21:03:20.014074Z",
          "iopub.status.idle": "2022-01-26T21:03:20.080006Z",
          "shell.execute_reply": "2022-01-26T21:03:20.079269Z",
          "shell.execute_reply.started": "2021-12-04T22:02:10.977992Z"
        },
        "papermill": {
          "duration": 0.106423,
          "end_time": "2022-01-26T21:03:20.080133",
          "exception": false,
          "start_time": "2022-01-26T21:03:19.973710",
          "status": "completed"
        },
        "tags": [],
        "id": "c8eab75f",
        "outputId": "d63febc9-c13b-41b8-d454-a5d3cf4b407e",
        "colab": {
          "base_uri": "https://localhost:8080/",
          "height": 363
        }
      },
      "outputs": [
        {
          "output_type": "execute_result",
          "data": {
            "text/html": [
              "\n",
              "  <div id=\"df-1f6b591d-4dcd-4d49-85e8-53b046f78336\">\n",
              "    <div class=\"colab-df-container\">\n",
              "      <div>\n",
              "<style scoped>\n",
              "    .dataframe tbody tr th:only-of-type {\n",
              "        vertical-align: middle;\n",
              "    }\n",
              "\n",
              "    .dataframe tbody tr th {\n",
              "        vertical-align: top;\n",
              "    }\n",
              "\n",
              "    .dataframe thead th {\n",
              "        text-align: right;\n",
              "    }\n",
              "</style>\n",
              "<table border=\"1\" class=\"dataframe\">\n",
              "  <thead>\n",
              "    <tr style=\"text-align: right;\">\n",
              "      <th></th>\n",
              "      <th>client_id</th>\n",
              "      <th>default</th>\n",
              "    </tr>\n",
              "  </thead>\n",
              "  <tbody>\n",
              "    <tr>\n",
              "      <th>0</th>\n",
              "      <td>74835</td>\n",
              "      <td>0.0</td>\n",
              "    </tr>\n",
              "    <tr>\n",
              "      <th>1</th>\n",
              "      <td>17527</td>\n",
              "      <td>1.0</td>\n",
              "    </tr>\n",
              "    <tr>\n",
              "      <th>2</th>\n",
              "      <td>75683</td>\n",
              "      <td>0.0</td>\n",
              "    </tr>\n",
              "    <tr>\n",
              "      <th>3</th>\n",
              "      <td>26883</td>\n",
              "      <td>0.0</td>\n",
              "    </tr>\n",
              "    <tr>\n",
              "      <th>4</th>\n",
              "      <td>28862</td>\n",
              "      <td>0.0</td>\n",
              "    </tr>\n",
              "    <tr>\n",
              "      <th>5</th>\n",
              "      <td>99881</td>\n",
              "      <td>1.0</td>\n",
              "    </tr>\n",
              "    <tr>\n",
              "      <th>6</th>\n",
              "      <td>26630</td>\n",
              "      <td>1.0</td>\n",
              "    </tr>\n",
              "    <tr>\n",
              "      <th>7</th>\n",
              "      <td>79934</td>\n",
              "      <td>0.0</td>\n",
              "    </tr>\n",
              "    <tr>\n",
              "      <th>8</th>\n",
              "      <td>16605</td>\n",
              "      <td>0.0</td>\n",
              "    </tr>\n",
              "    <tr>\n",
              "      <th>9</th>\n",
              "      <td>105449</td>\n",
              "      <td>0.0</td>\n",
              "    </tr>\n",
              "  </tbody>\n",
              "</table>\n",
              "</div>\n",
              "      <button class=\"colab-df-convert\" onclick=\"convertToInteractive('df-1f6b591d-4dcd-4d49-85e8-53b046f78336')\"\n",
              "              title=\"Convert this dataframe to an interactive table.\"\n",
              "              style=\"display:none;\">\n",
              "        \n",
              "  <svg xmlns=\"http://www.w3.org/2000/svg\" height=\"24px\"viewBox=\"0 0 24 24\"\n",
              "       width=\"24px\">\n",
              "    <path d=\"M0 0h24v24H0V0z\" fill=\"none\"/>\n",
              "    <path d=\"M18.56 5.44l.94 2.06.94-2.06 2.06-.94-2.06-.94-.94-2.06-.94 2.06-2.06.94zm-11 1L8.5 8.5l.94-2.06 2.06-.94-2.06-.94L8.5 2.5l-.94 2.06-2.06.94zm10 10l.94 2.06.94-2.06 2.06-.94-2.06-.94-.94-2.06-.94 2.06-2.06.94z\"/><path d=\"M17.41 7.96l-1.37-1.37c-.4-.4-.92-.59-1.43-.59-.52 0-1.04.2-1.43.59L10.3 9.45l-7.72 7.72c-.78.78-.78 2.05 0 2.83L4 21.41c.39.39.9.59 1.41.59.51 0 1.02-.2 1.41-.59l7.78-7.78 2.81-2.81c.8-.78.8-2.07 0-2.86zM5.41 20L4 18.59l7.72-7.72 1.47 1.35L5.41 20z\"/>\n",
              "  </svg>\n",
              "      </button>\n",
              "      \n",
              "  <style>\n",
              "    .colab-df-container {\n",
              "      display:flex;\n",
              "      flex-wrap:wrap;\n",
              "      gap: 12px;\n",
              "    }\n",
              "\n",
              "    .colab-df-convert {\n",
              "      background-color: #E8F0FE;\n",
              "      border: none;\n",
              "      border-radius: 50%;\n",
              "      cursor: pointer;\n",
              "      display: none;\n",
              "      fill: #1967D2;\n",
              "      height: 32px;\n",
              "      padding: 0 0 0 0;\n",
              "      width: 32px;\n",
              "    }\n",
              "\n",
              "    .colab-df-convert:hover {\n",
              "      background-color: #E2EBFA;\n",
              "      box-shadow: 0px 1px 2px rgba(60, 64, 67, 0.3), 0px 1px 3px 1px rgba(60, 64, 67, 0.15);\n",
              "      fill: #174EA6;\n",
              "    }\n",
              "\n",
              "    [theme=dark] .colab-df-convert {\n",
              "      background-color: #3B4455;\n",
              "      fill: #D2E3FC;\n",
              "    }\n",
              "\n",
              "    [theme=dark] .colab-df-convert:hover {\n",
              "      background-color: #434B5C;\n",
              "      box-shadow: 0px 1px 3px 1px rgba(0, 0, 0, 0.15);\n",
              "      filter: drop-shadow(0px 1px 2px rgba(0, 0, 0, 0.3));\n",
              "      fill: #FFFFFF;\n",
              "    }\n",
              "  </style>\n",
              "\n",
              "      <script>\n",
              "        const buttonEl =\n",
              "          document.querySelector('#df-1f6b591d-4dcd-4d49-85e8-53b046f78336 button.colab-df-convert');\n",
              "        buttonEl.style.display =\n",
              "          google.colab.kernel.accessAllowed ? 'block' : 'none';\n",
              "\n",
              "        async function convertToInteractive(key) {\n",
              "          const element = document.querySelector('#df-1f6b591d-4dcd-4d49-85e8-53b046f78336');\n",
              "          const dataTable =\n",
              "            await google.colab.kernel.invokeFunction('convertToInteractive',\n",
              "                                                     [key], {});\n",
              "          if (!dataTable) return;\n",
              "\n",
              "          const docLinkHtml = 'Like what you see? Visit the ' +\n",
              "            '<a target=\"_blank\" href=https://colab.research.google.com/notebooks/data_table.ipynb>data table notebook</a>'\n",
              "            + ' to learn more about interactive tables.';\n",
              "          element.innerHTML = '';\n",
              "          dataTable['output_type'] = 'display_data';\n",
              "          await google.colab.output.renderOutput(dataTable, element);\n",
              "          const docLink = document.createElement('div');\n",
              "          docLink.innerHTML = docLinkHtml;\n",
              "          element.appendChild(docLink);\n",
              "        }\n",
              "      </script>\n",
              "    </div>\n",
              "  </div>\n",
              "  "
            ],
            "text/plain": [
              "   client_id  default\n",
              "0      74835      0.0\n",
              "1      17527      1.0\n",
              "2      75683      0.0\n",
              "3      26883      0.0\n",
              "4      28862      0.0\n",
              "5      99881      1.0\n",
              "6      26630      1.0\n",
              "7      79934      0.0\n",
              "8      16605      0.0\n",
              "9     105449      0.0"
            ]
          },
          "metadata": {},
          "execution_count": 82
        }
      ],
      "source": [
        "sample_submission['default'] = y_pred\n",
        "sample_submission.to_csv('submission.csv', index=False)\n",
        "sample_submission.head(10)"
      ]
    },
    {
      "cell_type": "code",
      "execution_count": 83,
      "id": "771fa769",
      "metadata": {
        "execution": {
          "iopub.execute_input": "2022-01-26T21:03:20.138108Z",
          "iopub.status.busy": "2022-01-26T21:03:20.137295Z",
          "iopub.status.idle": "2022-01-26T21:03:20.156752Z",
          "shell.execute_reply": "2022-01-26T21:03:20.157190Z",
          "shell.execute_reply.started": "2021-12-04T22:02:11.116379Z"
        },
        "papermill": {
          "duration": 0.050333,
          "end_time": "2022-01-26T21:03:20.157380",
          "exception": false,
          "start_time": "2022-01-26T21:03:20.107047",
          "status": "completed"
        },
        "tags": [],
        "id": "771fa769",
        "outputId": "ebda7c75-be74-4e95-dae1-f405cd334183",
        "colab": {
          "base_uri": "https://localhost:8080/",
          "height": 300
        }
      },
      "outputs": [
        {
          "output_type": "execute_result",
          "data": {
            "text/html": [
              "\n",
              "  <div id=\"df-6352e97f-2b01-495c-9b71-e8ba41bda2c8\">\n",
              "    <div class=\"colab-df-container\">\n",
              "      <div>\n",
              "<style scoped>\n",
              "    .dataframe tbody tr th:only-of-type {\n",
              "        vertical-align: middle;\n",
              "    }\n",
              "\n",
              "    .dataframe tbody tr th {\n",
              "        vertical-align: top;\n",
              "    }\n",
              "\n",
              "    .dataframe thead th {\n",
              "        text-align: right;\n",
              "    }\n",
              "</style>\n",
              "<table border=\"1\" class=\"dataframe\">\n",
              "  <thead>\n",
              "    <tr style=\"text-align: right;\">\n",
              "      <th></th>\n",
              "      <th>client_id</th>\n",
              "      <th>default</th>\n",
              "    </tr>\n",
              "  </thead>\n",
              "  <tbody>\n",
              "    <tr>\n",
              "      <th>count</th>\n",
              "      <td>36349.000000</td>\n",
              "      <td>36349.000000</td>\n",
              "    </tr>\n",
              "    <tr>\n",
              "      <th>mean</th>\n",
              "      <td>54945.647473</td>\n",
              "      <td>0.275386</td>\n",
              "    </tr>\n",
              "    <tr>\n",
              "      <th>std</th>\n",
              "      <td>31706.052195</td>\n",
              "      <td>0.446715</td>\n",
              "    </tr>\n",
              "    <tr>\n",
              "      <th>min</th>\n",
              "      <td>4.000000</td>\n",
              "      <td>0.000000</td>\n",
              "    </tr>\n",
              "    <tr>\n",
              "      <th>25%</th>\n",
              "      <td>27744.000000</td>\n",
              "      <td>0.000000</td>\n",
              "    </tr>\n",
              "    <tr>\n",
              "      <th>50%</th>\n",
              "      <td>54657.000000</td>\n",
              "      <td>0.000000</td>\n",
              "    </tr>\n",
              "    <tr>\n",
              "      <th>75%</th>\n",
              "      <td>82322.000000</td>\n",
              "      <td>1.000000</td>\n",
              "    </tr>\n",
              "    <tr>\n",
              "      <th>max</th>\n",
              "      <td>110148.000000</td>\n",
              "      <td>1.000000</td>\n",
              "    </tr>\n",
              "  </tbody>\n",
              "</table>\n",
              "</div>\n",
              "      <button class=\"colab-df-convert\" onclick=\"convertToInteractive('df-6352e97f-2b01-495c-9b71-e8ba41bda2c8')\"\n",
              "              title=\"Convert this dataframe to an interactive table.\"\n",
              "              style=\"display:none;\">\n",
              "        \n",
              "  <svg xmlns=\"http://www.w3.org/2000/svg\" height=\"24px\"viewBox=\"0 0 24 24\"\n",
              "       width=\"24px\">\n",
              "    <path d=\"M0 0h24v24H0V0z\" fill=\"none\"/>\n",
              "    <path d=\"M18.56 5.44l.94 2.06.94-2.06 2.06-.94-2.06-.94-.94-2.06-.94 2.06-2.06.94zm-11 1L8.5 8.5l.94-2.06 2.06-.94-2.06-.94L8.5 2.5l-.94 2.06-2.06.94zm10 10l.94 2.06.94-2.06 2.06-.94-2.06-.94-.94-2.06-.94 2.06-2.06.94z\"/><path d=\"M17.41 7.96l-1.37-1.37c-.4-.4-.92-.59-1.43-.59-.52 0-1.04.2-1.43.59L10.3 9.45l-7.72 7.72c-.78.78-.78 2.05 0 2.83L4 21.41c.39.39.9.59 1.41.59.51 0 1.02-.2 1.41-.59l7.78-7.78 2.81-2.81c.8-.78.8-2.07 0-2.86zM5.41 20L4 18.59l7.72-7.72 1.47 1.35L5.41 20z\"/>\n",
              "  </svg>\n",
              "      </button>\n",
              "      \n",
              "  <style>\n",
              "    .colab-df-container {\n",
              "      display:flex;\n",
              "      flex-wrap:wrap;\n",
              "      gap: 12px;\n",
              "    }\n",
              "\n",
              "    .colab-df-convert {\n",
              "      background-color: #E8F0FE;\n",
              "      border: none;\n",
              "      border-radius: 50%;\n",
              "      cursor: pointer;\n",
              "      display: none;\n",
              "      fill: #1967D2;\n",
              "      height: 32px;\n",
              "      padding: 0 0 0 0;\n",
              "      width: 32px;\n",
              "    }\n",
              "\n",
              "    .colab-df-convert:hover {\n",
              "      background-color: #E2EBFA;\n",
              "      box-shadow: 0px 1px 2px rgba(60, 64, 67, 0.3), 0px 1px 3px 1px rgba(60, 64, 67, 0.15);\n",
              "      fill: #174EA6;\n",
              "    }\n",
              "\n",
              "    [theme=dark] .colab-df-convert {\n",
              "      background-color: #3B4455;\n",
              "      fill: #D2E3FC;\n",
              "    }\n",
              "\n",
              "    [theme=dark] .colab-df-convert:hover {\n",
              "      background-color: #434B5C;\n",
              "      box-shadow: 0px 1px 3px 1px rgba(0, 0, 0, 0.15);\n",
              "      filter: drop-shadow(0px 1px 2px rgba(0, 0, 0, 0.3));\n",
              "      fill: #FFFFFF;\n",
              "    }\n",
              "  </style>\n",
              "\n",
              "      <script>\n",
              "        const buttonEl =\n",
              "          document.querySelector('#df-6352e97f-2b01-495c-9b71-e8ba41bda2c8 button.colab-df-convert');\n",
              "        buttonEl.style.display =\n",
              "          google.colab.kernel.accessAllowed ? 'block' : 'none';\n",
              "\n",
              "        async function convertToInteractive(key) {\n",
              "          const element = document.querySelector('#df-6352e97f-2b01-495c-9b71-e8ba41bda2c8');\n",
              "          const dataTable =\n",
              "            await google.colab.kernel.invokeFunction('convertToInteractive',\n",
              "                                                     [key], {});\n",
              "          if (!dataTable) return;\n",
              "\n",
              "          const docLinkHtml = 'Like what you see? Visit the ' +\n",
              "            '<a target=\"_blank\" href=https://colab.research.google.com/notebooks/data_table.ipynb>data table notebook</a>'\n",
              "            + ' to learn more about interactive tables.';\n",
              "          element.innerHTML = '';\n",
              "          dataTable['output_type'] = 'display_data';\n",
              "          await google.colab.output.renderOutput(dataTable, element);\n",
              "          const docLink = document.createElement('div');\n",
              "          docLink.innerHTML = docLinkHtml;\n",
              "          element.appendChild(docLink);\n",
              "        }\n",
              "      </script>\n",
              "    </div>\n",
              "  </div>\n",
              "  "
            ],
            "text/plain": [
              "           client_id       default\n",
              "count   36349.000000  36349.000000\n",
              "mean    54945.647473      0.275386\n",
              "std     31706.052195      0.446715\n",
              "min         4.000000      0.000000\n",
              "25%     27744.000000      0.000000\n",
              "50%     54657.000000      0.000000\n",
              "75%     82322.000000      1.000000\n",
              "max    110148.000000      1.000000"
            ]
          },
          "metadata": {},
          "execution_count": 83
        }
      ],
      "source": [
        "sample_submission.describe()"
      ]
    },
    {
      "cell_type": "code",
      "execution_count": null,
      "id": "64bb290a",
      "metadata": {
        "execution": {
          "iopub.execute_input": "2022-01-26T21:03:20.215497Z",
          "iopub.status.busy": "2022-01-26T21:03:20.214923Z",
          "iopub.status.idle": "2022-01-26T21:03:20.849307Z",
          "shell.execute_reply": "2022-01-26T21:03:20.848839Z",
          "shell.execute_reply.started": "2021-12-04T22:02:11.138984Z"
        },
        "papermill": {
          "duration": 0.66384,
          "end_time": "2022-01-26T21:03:20.849429",
          "exception": false,
          "start_time": "2022-01-26T21:03:20.185589",
          "status": "completed"
        },
        "tags": [],
        "id": "64bb290a",
        "outputId": "673626be-1a28-4f89-96a4-369f961eb803"
      },
      "outputs": [
        {
          "name": "stdout",
          "output_type": "stream",
          "text": [
            "Traceback (most recent call last):\r\n",
            "  File \"/opt/conda/bin/kaggle\", line 5, in <module>\r\n",
            "    from kaggle.cli import main\r\n",
            "  File \"/opt/conda/lib/python3.7/site-packages/kaggle/__init__.py\", line 23, in <module>\r\n",
            "    api.authenticate()\r\n",
            "  File \"/opt/conda/lib/python3.7/site-packages/kaggle/api/kaggle_api_extended.py\", line 166, in authenticate\r\n",
            "    self.config_file, self.config_dir))\r\n",
            "OSError: Could not find kaggle.json. Make sure it's located in /root/.kaggle. Or use the environment method.\r\n"
          ]
        }
      ],
      "source": [
        "!kaggle competitions submit -c sf-scoring -f ssubmission.csv -m \"Message\"\n",
        "# !kaggle competitions submit your-competition-name -f submission.csv -m 'My submission message'"
      ]
    }
  ],
  "metadata": {
    "kernelspec": {
      "display_name": "Python 3",
      "language": "python",
      "name": "python3"
    },
    "language_info": {
      "codemirror_mode": {
        "name": "ipython",
        "version": 3
      },
      "file_extension": ".py",
      "mimetype": "text/x-python",
      "name": "python",
      "nbconvert_exporter": "python",
      "pygments_lexer": "ipython3",
      "version": "3.7.10"
    },
    "papermill": {
      "default_parameters": {},
      "duration": 15.26062,
      "end_time": "2022-01-26T21:03:21.587424",
      "environment_variables": {},
      "exception": null,
      "input_path": "__notebook__.ipynb",
      "output_path": "__notebook__.ipynb",
      "parameters": {},
      "start_time": "2022-01-26T21:03:06.326804",
      "version": "2.3.3"
    },
    "colab": {
      "name": "PROJECT-5.ipynb",
      "provenance": [],
      "collapsed_sections": []
    }
  },
  "nbformat": 4,
  "nbformat_minor": 5
}