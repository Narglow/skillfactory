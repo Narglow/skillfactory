{
 "cells": [
  {
   "cell_type": "code",
   "execution_count": null,
   "metadata": {
    "id": "A4tJio0fKWRU"
   },
   "outputs": [],
   "source": [
    " import numpy as np \n",
    " \n",
    "def score_game(game_core):\n",
    "    '''Запускаем игру 1000 раз, чтобы узнать, как быстро игра угадывает число'''\n",
    "    count_ls = []\n",
    "    np.random.seed(1)  # фиксируем RANDOM SEED, чтобы эксперимент был воспроизводим!\n",
    "    random_array = np.random.randint(1,101, size=(1000))\n",
    "    for number in random_array:\n",
    "        count_ls.append(game_core(number))\n",
    "    score = int(np.mean(count_ls))\n",
    "    print(f\"Ваш алгоритм угадывает число в среднем за {score} попыток\")\n",
    "    return(score)\n",
    " \n",
    "def game_core_v3(number):\n",
    "    '''Используя подсказки мы отсеиваем сразу несколько чисел за шаг\n",
    "       Функция принимает загаданное число и возвращает число попыток'''\n",
    "    count = 1\n",
    "    predict = 10\n",
    "    while number != predict:  # цикл будет продолжаться, пока не угадаем\n",
    "        count+=1              # плюсуем попытку\n",
    "        if number > predict: \n",
    "            predict += 10     # больший шаг поиска\n",
    "        elif number < predict: \n",
    "            predict -= 1      # малый шаг поиска\n",
    "    return(count) # выход из цикла, если угадали\n",
    " \n",
    "score_game(game_core_v3)"
   ]
  }
 ],
 "metadata": {
  "colab": {
   "name": "projekt_0.ipynb",
   "provenance": [],
   "collapsed_sections": [],
   "authorship_tag": "ABX9TyPA4sbuOh9Ple8sjk5k4wlE"
  },
  "kernelspec": {
   "name": "python3",
   "display_name": "Python 3"
  },
  "language_info": {
   "name": "python"
  }
 },
 "nbformat": 4,
 "nbformat_minor": 0
}
