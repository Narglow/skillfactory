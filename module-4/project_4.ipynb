{
  "nbformat": 4,
  "nbformat_minor": 0,
  "metadata": {
    "colab": {
      "name": "project-4.ipynb",
      "provenance": []
    },
    "kernelspec": {
      "name": "python3",
      "display_name": "Python 3"
    },
    "language_info": {
      "name": "python"
    }
  },
  "cells": [
    {
      "cell_type": "code",
      "metadata": {
        "id": "6HguBhliY37S"
      },
      "source": [
        "import pandas as pd\n",
        "import numpy as np\n",
        "import datetime as dt\n",
        "from datetime import datetime, timedelta\n",
        "pd.options.mode.chained_assignment = None "
      ],
      "execution_count": 219,
      "outputs": []
    },
    {
      "cell_type": "code",
      "metadata": {
        "id": "PUSN8Hh8Z4gx"
      },
      "source": [
        "df = pd.read_csv('data_of_airlines.csv')"
      ],
      "execution_count": 220,
      "outputs": []
    },
    {
      "cell_type": "code",
      "metadata": {
        "colab": {
          "base_uri": "https://localhost:8080/",
          "height": 391
        },
        "id": "_8-JWKIYZ5xo",
        "outputId": "fcf7b693-78a1-4271-c33f-0da4664a04d4"
      },
      "source": [
        "df.head()\n",
        "#Посмотрим на пример данных, которые мы получили"
      ],
      "execution_count": 221,
      "outputs": [
        {
          "output_type": "execute_result",
          "data": {
            "text/html": [
              "<div>\n",
              "<style scoped>\n",
              "    .dataframe tbody tr th:only-of-type {\n",
              "        vertical-align: middle;\n",
              "    }\n",
              "\n",
              "    .dataframe tbody tr th {\n",
              "        vertical-align: top;\n",
              "    }\n",
              "\n",
              "    .dataframe thead th {\n",
              "        text-align: right;\n",
              "    }\n",
              "</style>\n",
              "<table border=\"1\" class=\"dataframe\">\n",
              "  <thead>\n",
              "    <tr style=\"text-align: right;\">\n",
              "      <th></th>\n",
              "      <th>flight_id</th>\n",
              "      <th>flight_no</th>\n",
              "      <th>departure_airport</th>\n",
              "      <th>arrival_airport</th>\n",
              "      <th>model</th>\n",
              "      <th>actual_arrival</th>\n",
              "      <th>actual_departure</th>\n",
              "      <th>ticket_economy</th>\n",
              "      <th>ticket_comfort</th>\n",
              "      <th>ticket_business</th>\n",
              "      <th>flight_time</th>\n",
              "      <th>total_amount</th>\n",
              "    </tr>\n",
              "  </thead>\n",
              "  <tbody>\n",
              "    <tr>\n",
              "      <th>0</th>\n",
              "      <td>136119</td>\n",
              "      <td>PG0252</td>\n",
              "      <td>AAQ</td>\n",
              "      <td>SVO</td>\n",
              "      <td>Boeing 737-300</td>\n",
              "      <td>2017-01-03T11:49:00Z</td>\n",
              "      <td>2017-01-03T10:08:00Z</td>\n",
              "      <td>102.0</td>\n",
              "      <td>0.0</td>\n",
              "      <td>11.0</td>\n",
              "      <td>101.0</td>\n",
              "      <td>1653000.0</td>\n",
              "    </tr>\n",
              "    <tr>\n",
              "      <th>1</th>\n",
              "      <td>136120</td>\n",
              "      <td>PG0252</td>\n",
              "      <td>AAQ</td>\n",
              "      <td>SVO</td>\n",
              "      <td>Boeing 737-300</td>\n",
              "      <td>2017-02-24T11:46:00Z</td>\n",
              "      <td>2017-02-24T10:07:00Z</td>\n",
              "      <td>98.0</td>\n",
              "      <td>0.0</td>\n",
              "      <td>11.0</td>\n",
              "      <td>99.0</td>\n",
              "      <td>1605400.0</td>\n",
              "    </tr>\n",
              "    <tr>\n",
              "      <th>2</th>\n",
              "      <td>136122</td>\n",
              "      <td>PG0252</td>\n",
              "      <td>AAQ</td>\n",
              "      <td>SVO</td>\n",
              "      <td>Boeing 737-300</td>\n",
              "      <td>2017-01-08T11:48:00Z</td>\n",
              "      <td>2017-01-08T10:08:00Z</td>\n",
              "      <td>87.0</td>\n",
              "      <td>0.0</td>\n",
              "      <td>10.0</td>\n",
              "      <td>100.0</td>\n",
              "      <td>1431000.0</td>\n",
              "    </tr>\n",
              "    <tr>\n",
              "      <th>3</th>\n",
              "      <td>136130</td>\n",
              "      <td>PG0252</td>\n",
              "      <td>AAQ</td>\n",
              "      <td>SVO</td>\n",
              "      <td>Boeing 737-300</td>\n",
              "      <td>2017-02-13T11:46:00Z</td>\n",
              "      <td>2017-02-13T10:07:00Z</td>\n",
              "      <td>97.0</td>\n",
              "      <td>0.0</td>\n",
              "      <td>10.0</td>\n",
              "      <td>99.0</td>\n",
              "      <td>1556600.0</td>\n",
              "    </tr>\n",
              "    <tr>\n",
              "      <th>4</th>\n",
              "      <td>136131</td>\n",
              "      <td>PG0252</td>\n",
              "      <td>AAQ</td>\n",
              "      <td>SVO</td>\n",
              "      <td>Boeing 737-300</td>\n",
              "      <td>2017-01-28T11:46:00Z</td>\n",
              "      <td>2017-01-28T10:07:00Z</td>\n",
              "      <td>112.0</td>\n",
              "      <td>0.0</td>\n",
              "      <td>12.0</td>\n",
              "      <td>99.0</td>\n",
              "      <td>1812800.0</td>\n",
              "    </tr>\n",
              "  </tbody>\n",
              "</table>\n",
              "</div>"
            ],
            "text/plain": [
              "   flight_id flight_no  ... flight_time total_amount\n",
              "0     136119    PG0252  ...       101.0    1653000.0\n",
              "1     136120    PG0252  ...        99.0    1605400.0\n",
              "2     136122    PG0252  ...       100.0    1431000.0\n",
              "3     136130    PG0252  ...        99.0    1556600.0\n",
              "4     136131    PG0252  ...        99.0    1812800.0\n",
              "\n",
              "[5 rows x 12 columns]"
            ]
          },
          "metadata": {},
          "execution_count": 221
        }
      ]
    },
    {
      "cell_type": "code",
      "metadata": {
        "colab": {
          "base_uri": "https://localhost:8080/"
        },
        "id": "x3z_bcLIaHqc",
        "outputId": "b084f9b4-b91b-405c-934e-20fcb5adea90"
      },
      "source": [
        "df.info()\n",
        "# Найдём в каких столбцах имеются нулевые значения"
      ],
      "execution_count": 222,
      "outputs": [
        {
          "output_type": "stream",
          "name": "stdout",
          "text": [
            "<class 'pandas.core.frame.DataFrame'>\n",
            "RangeIndex: 127 entries, 0 to 126\n",
            "Data columns (total 12 columns):\n",
            " #   Column             Non-Null Count  Dtype  \n",
            "---  ------             --------------  -----  \n",
            " 0   flight_id          127 non-null    int64  \n",
            " 1   flight_no          127 non-null    object \n",
            " 2   departure_airport  127 non-null    object \n",
            " 3   arrival_airport    127 non-null    object \n",
            " 4   model              127 non-null    object \n",
            " 5   actual_arrival     127 non-null    object \n",
            " 6   actual_departure   127 non-null    object \n",
            " 7   ticket_economy     118 non-null    float64\n",
            " 8   ticket_comfort     118 non-null    float64\n",
            " 9   ticket_business    118 non-null    float64\n",
            " 10  flight_time        127 non-null    float64\n",
            " 11  total_amount       118 non-null    float64\n",
            "dtypes: float64(5), int64(1), object(6)\n",
            "memory usage: 12.0+ KB\n"
          ]
        }
      ]
    },
    {
      "cell_type": "code",
      "metadata": {
        "colab": {
          "base_uri": "https://localhost:8080/"
        },
        "id": "Xdt8skv1dh3A",
        "outputId": "9b7dd536-820d-462a-d109-e3911b085df7"
      },
      "source": [
        "df['model'].value_counts()\n",
        "#Видим, что из Анапы вылетают только 2 модели сомалета за данный период"
      ],
      "execution_count": 223,
      "outputs": [
        {
          "output_type": "execute_result",
          "data": {
            "text/plain": [
              "Boeing 737-300         68\n",
              "Sukhoi Superjet-100    59\n",
              "Name: model, dtype: int64"
            ]
          },
          "metadata": {},
          "execution_count": 223
        }
      ]
    },
    {
      "cell_type": "code",
      "metadata": {
        "colab": {
          "base_uri": "https://localhost:8080/"
        },
        "id": "jFDUnH9LfLmq",
        "outputId": "d15a822f-2187-4981-dfbd-8512239054bf"
      },
      "source": [
        "df[df['model'] == 'Boeing 737-300'].info()\n",
        "#Тут мы обнаружили пропущенные значения, но на всякий случай \n",
        "#проверим и вторую модель самолета, которая обслуживается в аэропорте Анапы"
      ],
      "execution_count": 224,
      "outputs": [
        {
          "output_type": "stream",
          "name": "stdout",
          "text": [
            "<class 'pandas.core.frame.DataFrame'>\n",
            "Int64Index: 68 entries, 0 to 67\n",
            "Data columns (total 12 columns):\n",
            " #   Column             Non-Null Count  Dtype  \n",
            "---  ------             --------------  -----  \n",
            " 0   flight_id          68 non-null     int64  \n",
            " 1   flight_no          68 non-null     object \n",
            " 2   departure_airport  68 non-null     object \n",
            " 3   arrival_airport    68 non-null     object \n",
            " 4   model              68 non-null     object \n",
            " 5   actual_arrival     68 non-null     object \n",
            " 6   actual_departure   68 non-null     object \n",
            " 7   ticket_economy     59 non-null     float64\n",
            " 8   ticket_comfort     59 non-null     float64\n",
            " 9   ticket_business    59 non-null     float64\n",
            " 10  flight_time        68 non-null     float64\n",
            " 11  total_amount       59 non-null     float64\n",
            "dtypes: float64(5), int64(1), object(6)\n",
            "memory usage: 6.9+ KB\n"
          ]
        }
      ]
    },
    {
      "cell_type": "code",
      "metadata": {
        "colab": {
          "base_uri": "https://localhost:8080/"
        },
        "id": "ZZYgvVpZfx9E",
        "outputId": "89ff71a6-2ff3-43ba-b6ef-0bf09fcda4fa"
      },
      "source": [
        "df[df['model'] == 'Sukhoi Superjet-100'].info()\n",
        "#Здесь все хорошо, можно приступить к устранению пробелов"
      ],
      "execution_count": 225,
      "outputs": [
        {
          "output_type": "stream",
          "name": "stdout",
          "text": [
            "<class 'pandas.core.frame.DataFrame'>\n",
            "Int64Index: 59 entries, 68 to 126\n",
            "Data columns (total 12 columns):\n",
            " #   Column             Non-Null Count  Dtype  \n",
            "---  ------             --------------  -----  \n",
            " 0   flight_id          59 non-null     int64  \n",
            " 1   flight_no          59 non-null     object \n",
            " 2   departure_airport  59 non-null     object \n",
            " 3   arrival_airport    59 non-null     object \n",
            " 4   model              59 non-null     object \n",
            " 5   actual_arrival     59 non-null     object \n",
            " 6   actual_departure   59 non-null     object \n",
            " 7   ticket_economy     59 non-null     float64\n",
            " 8   ticket_comfort     59 non-null     float64\n",
            " 9   ticket_business    59 non-null     float64\n",
            " 10  flight_time        59 non-null     float64\n",
            " 11  total_amount       59 non-null     float64\n",
            "dtypes: float64(5), int64(1), object(6)\n",
            "memory usage: 6.0+ KB\n"
          ]
        }
      ]
    },
    {
      "cell_type": "code",
      "metadata": {
        "colab": {
          "base_uri": "https://localhost:8080/",
          "height": 773
        },
        "id": "1WOVuoUfg0lo",
        "outputId": "8b2fa18f-0d2c-4a33-a757-7edea1637832"
      },
      "source": [
        "df[df['model'] == 'Boeing 737-300']"
      ],
      "execution_count": 226,
      "outputs": [
        {
          "output_type": "execute_result",
          "data": {
            "text/html": [
              "<div>\n",
              "<style scoped>\n",
              "    .dataframe tbody tr th:only-of-type {\n",
              "        vertical-align: middle;\n",
              "    }\n",
              "\n",
              "    .dataframe tbody tr th {\n",
              "        vertical-align: top;\n",
              "    }\n",
              "\n",
              "    .dataframe thead th {\n",
              "        text-align: right;\n",
              "    }\n",
              "</style>\n",
              "<table border=\"1\" class=\"dataframe\">\n",
              "  <thead>\n",
              "    <tr style=\"text-align: right;\">\n",
              "      <th></th>\n",
              "      <th>flight_id</th>\n",
              "      <th>flight_no</th>\n",
              "      <th>departure_airport</th>\n",
              "      <th>arrival_airport</th>\n",
              "      <th>model</th>\n",
              "      <th>actual_arrival</th>\n",
              "      <th>actual_departure</th>\n",
              "      <th>ticket_economy</th>\n",
              "      <th>ticket_comfort</th>\n",
              "      <th>ticket_business</th>\n",
              "      <th>flight_time</th>\n",
              "      <th>total_amount</th>\n",
              "    </tr>\n",
              "  </thead>\n",
              "  <tbody>\n",
              "    <tr>\n",
              "      <th>0</th>\n",
              "      <td>136119</td>\n",
              "      <td>PG0252</td>\n",
              "      <td>AAQ</td>\n",
              "      <td>SVO</td>\n",
              "      <td>Boeing 737-300</td>\n",
              "      <td>2017-01-03T11:49:00Z</td>\n",
              "      <td>2017-01-03T10:08:00Z</td>\n",
              "      <td>102.0</td>\n",
              "      <td>0.0</td>\n",
              "      <td>11.0</td>\n",
              "      <td>101.0</td>\n",
              "      <td>1653000.0</td>\n",
              "    </tr>\n",
              "    <tr>\n",
              "      <th>1</th>\n",
              "      <td>136120</td>\n",
              "      <td>PG0252</td>\n",
              "      <td>AAQ</td>\n",
              "      <td>SVO</td>\n",
              "      <td>Boeing 737-300</td>\n",
              "      <td>2017-02-24T11:46:00Z</td>\n",
              "      <td>2017-02-24T10:07:00Z</td>\n",
              "      <td>98.0</td>\n",
              "      <td>0.0</td>\n",
              "      <td>11.0</td>\n",
              "      <td>99.0</td>\n",
              "      <td>1605400.0</td>\n",
              "    </tr>\n",
              "    <tr>\n",
              "      <th>2</th>\n",
              "      <td>136122</td>\n",
              "      <td>PG0252</td>\n",
              "      <td>AAQ</td>\n",
              "      <td>SVO</td>\n",
              "      <td>Boeing 737-300</td>\n",
              "      <td>2017-01-08T11:48:00Z</td>\n",
              "      <td>2017-01-08T10:08:00Z</td>\n",
              "      <td>87.0</td>\n",
              "      <td>0.0</td>\n",
              "      <td>10.0</td>\n",
              "      <td>100.0</td>\n",
              "      <td>1431000.0</td>\n",
              "    </tr>\n",
              "    <tr>\n",
              "      <th>3</th>\n",
              "      <td>136130</td>\n",
              "      <td>PG0252</td>\n",
              "      <td>AAQ</td>\n",
              "      <td>SVO</td>\n",
              "      <td>Boeing 737-300</td>\n",
              "      <td>2017-02-13T11:46:00Z</td>\n",
              "      <td>2017-02-13T10:07:00Z</td>\n",
              "      <td>97.0</td>\n",
              "      <td>0.0</td>\n",
              "      <td>10.0</td>\n",
              "      <td>99.0</td>\n",
              "      <td>1556600.0</td>\n",
              "    </tr>\n",
              "    <tr>\n",
              "      <th>4</th>\n",
              "      <td>136131</td>\n",
              "      <td>PG0252</td>\n",
              "      <td>AAQ</td>\n",
              "      <td>SVO</td>\n",
              "      <td>Boeing 737-300</td>\n",
              "      <td>2017-01-28T11:46:00Z</td>\n",
              "      <td>2017-01-28T10:07:00Z</td>\n",
              "      <td>112.0</td>\n",
              "      <td>0.0</td>\n",
              "      <td>12.0</td>\n",
              "      <td>99.0</td>\n",
              "      <td>1812800.0</td>\n",
              "    </tr>\n",
              "    <tr>\n",
              "      <th>...</th>\n",
              "      <td>...</td>\n",
              "      <td>...</td>\n",
              "      <td>...</td>\n",
              "      <td>...</td>\n",
              "      <td>...</td>\n",
              "      <td>...</td>\n",
              "      <td>...</td>\n",
              "      <td>...</td>\n",
              "      <td>...</td>\n",
              "      <td>...</td>\n",
              "      <td>...</td>\n",
              "      <td>...</td>\n",
              "    </tr>\n",
              "    <tr>\n",
              "      <th>63</th>\n",
              "      <td>136540</td>\n",
              "      <td>PG0194</td>\n",
              "      <td>AAQ</td>\n",
              "      <td>NOZ</td>\n",
              "      <td>Boeing 737-300</td>\n",
              "      <td>2017-01-17T11:21:00Z</td>\n",
              "      <td>2017-01-17T06:14:00Z</td>\n",
              "      <td>NaN</td>\n",
              "      <td>NaN</td>\n",
              "      <td>NaN</td>\n",
              "      <td>307.0</td>\n",
              "      <td>NaN</td>\n",
              "    </tr>\n",
              "    <tr>\n",
              "      <th>64</th>\n",
              "      <td>136544</td>\n",
              "      <td>PG0194</td>\n",
              "      <td>AAQ</td>\n",
              "      <td>NOZ</td>\n",
              "      <td>Boeing 737-300</td>\n",
              "      <td>2017-01-31T11:14:00Z</td>\n",
              "      <td>2017-01-31T06:10:00Z</td>\n",
              "      <td>NaN</td>\n",
              "      <td>NaN</td>\n",
              "      <td>NaN</td>\n",
              "      <td>304.0</td>\n",
              "      <td>NaN</td>\n",
              "    </tr>\n",
              "    <tr>\n",
              "      <th>65</th>\n",
              "      <td>136546</td>\n",
              "      <td>PG0194</td>\n",
              "      <td>AAQ</td>\n",
              "      <td>NOZ</td>\n",
              "      <td>Boeing 737-300</td>\n",
              "      <td>2017-01-03T11:15:00Z</td>\n",
              "      <td>2017-01-03T06:13:00Z</td>\n",
              "      <td>NaN</td>\n",
              "      <td>NaN</td>\n",
              "      <td>NaN</td>\n",
              "      <td>302.0</td>\n",
              "      <td>NaN</td>\n",
              "    </tr>\n",
              "    <tr>\n",
              "      <th>66</th>\n",
              "      <td>136560</td>\n",
              "      <td>PG0194</td>\n",
              "      <td>AAQ</td>\n",
              "      <td>NOZ</td>\n",
              "      <td>Boeing 737-300</td>\n",
              "      <td>2017-01-24T11:18:00Z</td>\n",
              "      <td>2017-01-24T06:13:00Z</td>\n",
              "      <td>NaN</td>\n",
              "      <td>NaN</td>\n",
              "      <td>NaN</td>\n",
              "      <td>305.0</td>\n",
              "      <td>NaN</td>\n",
              "    </tr>\n",
              "    <tr>\n",
              "      <th>67</th>\n",
              "      <td>136567</td>\n",
              "      <td>PG0194</td>\n",
              "      <td>AAQ</td>\n",
              "      <td>NOZ</td>\n",
              "      <td>Boeing 737-300</td>\n",
              "      <td>2017-02-14T11:23:00Z</td>\n",
              "      <td>2017-02-14T06:12:00Z</td>\n",
              "      <td>NaN</td>\n",
              "      <td>NaN</td>\n",
              "      <td>NaN</td>\n",
              "      <td>311.0</td>\n",
              "      <td>NaN</td>\n",
              "    </tr>\n",
              "  </tbody>\n",
              "</table>\n",
              "<p>68 rows × 12 columns</p>\n",
              "</div>"
            ],
            "text/plain": [
              "    flight_id flight_no  ... flight_time total_amount\n",
              "0      136119    PG0252  ...       101.0    1653000.0\n",
              "1      136120    PG0252  ...        99.0    1605400.0\n",
              "2      136122    PG0252  ...       100.0    1431000.0\n",
              "3      136130    PG0252  ...        99.0    1556600.0\n",
              "4      136131    PG0252  ...        99.0    1812800.0\n",
              "..        ...       ...  ...         ...          ...\n",
              "63     136540    PG0194  ...       307.0          NaN\n",
              "64     136544    PG0194  ...       304.0          NaN\n",
              "65     136546    PG0194  ...       302.0          NaN\n",
              "66     136560    PG0194  ...       305.0          NaN\n",
              "67     136567    PG0194  ...       311.0          NaN\n",
              "\n",
              "[68 rows x 12 columns]"
            ]
          },
          "metadata": {},
          "execution_count": 226
        }
      ]
    },
    {
      "cell_type": "code",
      "metadata": {
        "colab": {
          "base_uri": "https://localhost:8080/"
        },
        "id": "hFAb_O15gaiz",
        "outputId": "61c260da-9751-4c4e-c020-7d7b7bbadb75"
      },
      "source": [
        "#Так как пропуски идут только по одной модели самолетов, \n",
        "#то на их примере и стоит восстанавливать пропущенные значения. \n",
        "#Самым простым способом будет заменить пропуски на среднее значение имеющихся\n",
        "#данных, но стоит узнать какую часть пропуски составляют как от среза по данной\n",
        "#модели самолета, так и от всего датасета\n",
        "(df[df['model'] == 'Boeing 737-300'].total_amount.isnull().sum() / \n",
        "df[df['model'] == 'Boeing 737-300'].total_amount.count())\n",
        "#Если округлять, то 15% от среза, уже можно работать по плану, \n",
        "#но дополнительно посмотрим на отношение ко всему датасету\n",
        "(df[df['model'] == 'Boeing 737-300'].total_amount.isnull().sum() / \n",
        "df.total_amount.count())\n",
        "#А тут мы наблюдаем 8%, так что смело заменяем на среднее значение "
      ],
      "execution_count": 227,
      "outputs": [
        {
          "output_type": "execute_result",
          "data": {
            "text/plain": [
              "0.07627118644067797"
            ]
          },
          "metadata": {},
          "execution_count": 227
        }
      ]
    },
    {
      "cell_type": "code",
      "metadata": {
        "id": "0ErMcvoilaf9"
      },
      "source": [
        "df['ticket_economy'] = df['ticket_economy'].fillna(df[df['model'] == 'Boeing 737-300'].ticket_economy.mean()//1)"
      ],
      "execution_count": 228,
      "outputs": []
    },
    {
      "cell_type": "code",
      "metadata": {
        "id": "m3iueazXnh3k"
      },
      "source": [
        "df[df['model'] == 'Boeing 737-300'].ticket_comfort.fillna(df[df['model'] == 'Boeing 737-300'].ticket_comfort.mean()//1)\n",
        "#Видим, что все значения 0, поэтому заменяем пропуски на 0\n",
        "df['ticket_comfort'] = df['ticket_comfort'].fillna(0)"
      ],
      "execution_count": 229,
      "outputs": []
    },
    {
      "cell_type": "code",
      "metadata": {
        "id": "lzHmgeLHnspR"
      },
      "source": [
        "df['ticket_business'] = df['ticket_business'].fillna(df[df['model'] == 'Boeing 737-300'].ticket_business.mean()//1)"
      ],
      "execution_count": 230,
      "outputs": []
    },
    {
      "cell_type": "code",
      "metadata": {
        "id": "oXzV_zY2n3fU"
      },
      "source": [
        "df['total_amount'] = df['total_amount'].fillna(df[df['model'] == 'Boeing 737-300'].total_amount.mean()//1)"
      ],
      "execution_count": 231,
      "outputs": []
    },
    {
      "cell_type": "code",
      "metadata": {
        "id": "3B3rAetyoLe3"
      },
      "source": [
        "df['actual_arrival'] = pd.to_datetime(df['actual_arrival'])\n",
        "#Так же заменим дату отправки на формат datetime, \n",
        "#для того чтобы следить за ценой топлива по месяцам"
      ],
      "execution_count": 232,
      "outputs": []
    },
    {
      "cell_type": "code",
      "metadata": {
        "colab": {
          "base_uri": "https://localhost:8080/"
        },
        "id": "rkoNxQ2Yr2QR",
        "outputId": "0be96c05-db6a-4b4f-eecb-e20dd2a98cda"
      },
      "source": [
        "df.info()"
      ],
      "execution_count": 233,
      "outputs": [
        {
          "output_type": "stream",
          "name": "stdout",
          "text": [
            "<class 'pandas.core.frame.DataFrame'>\n",
            "RangeIndex: 127 entries, 0 to 126\n",
            "Data columns (total 12 columns):\n",
            " #   Column             Non-Null Count  Dtype              \n",
            "---  ------             --------------  -----              \n",
            " 0   flight_id          127 non-null    int64              \n",
            " 1   flight_no          127 non-null    object             \n",
            " 2   departure_airport  127 non-null    object             \n",
            " 3   arrival_airport    127 non-null    object             \n",
            " 4   model              127 non-null    object             \n",
            " 5   actual_arrival     127 non-null    datetime64[ns, UTC]\n",
            " 6   actual_departure   127 non-null    object             \n",
            " 7   ticket_economy     127 non-null    float64            \n",
            " 8   ticket_comfort     127 non-null    float64            \n",
            " 9   ticket_business    127 non-null    float64            \n",
            " 10  flight_time        127 non-null    float64            \n",
            " 11  total_amount       127 non-null    float64            \n",
            "dtypes: datetime64[ns, UTC](1), float64(5), int64(1), object(5)\n",
            "memory usage: 12.0+ KB\n"
          ]
        }
      ]
    },
    {
      "cell_type": "markdown",
      "metadata": {
        "id": "n60QOMT0oVFV"
      },
      "source": [
        "Были заменены пропущенные значения, и теперь можно приступить к анализу\n"
      ]
    },
    {
      "cell_type": "code",
      "metadata": {
        "colab": {
          "base_uri": "https://localhost:8080/",
          "height": 295
        },
        "id": "rP0sFMQKr7z9",
        "outputId": "101080a3-7c17-419e-dbc6-2eb3c3ebc3a6"
      },
      "source": [
        "df.describe()"
      ],
      "execution_count": 234,
      "outputs": [
        {
          "output_type": "execute_result",
          "data": {
            "text/html": [
              "<div>\n",
              "<style scoped>\n",
              "    .dataframe tbody tr th:only-of-type {\n",
              "        vertical-align: middle;\n",
              "    }\n",
              "\n",
              "    .dataframe tbody tr th {\n",
              "        vertical-align: top;\n",
              "    }\n",
              "\n",
              "    .dataframe thead th {\n",
              "        text-align: right;\n",
              "    }\n",
              "</style>\n",
              "<table border=\"1\" class=\"dataframe\">\n",
              "  <thead>\n",
              "    <tr style=\"text-align: right;\">\n",
              "      <th></th>\n",
              "      <th>flight_id</th>\n",
              "      <th>ticket_economy</th>\n",
              "      <th>ticket_comfort</th>\n",
              "      <th>ticket_business</th>\n",
              "      <th>flight_time</th>\n",
              "      <th>total_amount</th>\n",
              "    </tr>\n",
              "  </thead>\n",
              "  <tbody>\n",
              "    <tr>\n",
              "      <th>count</th>\n",
              "      <td>127.000000</td>\n",
              "      <td>127.000000</td>\n",
              "      <td>127.0</td>\n",
              "      <td>127.000000</td>\n",
              "      <td>127.000000</td>\n",
              "      <td>1.270000e+02</td>\n",
              "    </tr>\n",
              "    <tr>\n",
              "      <th>mean</th>\n",
              "      <td>136533.574803</td>\n",
              "      <td>91.653543</td>\n",
              "      <td>0.0</td>\n",
              "      <td>10.732283</td>\n",
              "      <td>91.377953</td>\n",
              "      <td>1.209535e+06</td>\n",
              "    </tr>\n",
              "    <tr>\n",
              "      <th>std</th>\n",
              "      <td>252.498327</td>\n",
              "      <td>13.818769</td>\n",
              "      <td>0.0</td>\n",
              "      <td>1.359557</td>\n",
              "      <td>64.377474</td>\n",
              "      <td>4.773332e+05</td>\n",
              "    </tr>\n",
              "    <tr>\n",
              "      <th>min</th>\n",
              "      <td>136119.000000</td>\n",
              "      <td>54.000000</td>\n",
              "      <td>0.0</td>\n",
              "      <td>6.000000</td>\n",
              "      <td>49.000000</td>\n",
              "      <td>5.310000e+05</td>\n",
              "    </tr>\n",
              "    <tr>\n",
              "      <th>25%</th>\n",
              "      <td>136313.000000</td>\n",
              "      <td>83.500000</td>\n",
              "      <td>0.0</td>\n",
              "      <td>10.000000</td>\n",
              "      <td>50.000000</td>\n",
              "      <td>7.495500e+05</td>\n",
              "    </tr>\n",
              "    <tr>\n",
              "      <th>50%</th>\n",
              "      <td>136540.000000</td>\n",
              "      <td>91.000000</td>\n",
              "      <td>0.0</td>\n",
              "      <td>11.000000</td>\n",
              "      <td>99.000000</td>\n",
              "      <td>1.455400e+06</td>\n",
              "    </tr>\n",
              "    <tr>\n",
              "      <th>75%</th>\n",
              "      <td>136757.500000</td>\n",
              "      <td>102.000000</td>\n",
              "      <td>0.0</td>\n",
              "      <td>12.000000</td>\n",
              "      <td>100.000000</td>\n",
              "      <td>1.642576e+06</td>\n",
              "    </tr>\n",
              "    <tr>\n",
              "      <th>max</th>\n",
              "      <td>136956.000000</td>\n",
              "      <td>118.000000</td>\n",
              "      <td>0.0</td>\n",
              "      <td>12.000000</td>\n",
              "      <td>312.000000</td>\n",
              "      <td>1.886000e+06</td>\n",
              "    </tr>\n",
              "  </tbody>\n",
              "</table>\n",
              "</div>"
            ],
            "text/plain": [
              "           flight_id  ticket_economy  ...  flight_time  total_amount\n",
              "count     127.000000      127.000000  ...   127.000000  1.270000e+02\n",
              "mean   136533.574803       91.653543  ...    91.377953  1.209535e+06\n",
              "std       252.498327       13.818769  ...    64.377474  4.773332e+05\n",
              "min    136119.000000       54.000000  ...    49.000000  5.310000e+05\n",
              "25%    136313.000000       83.500000  ...    50.000000  7.495500e+05\n",
              "50%    136540.000000       91.000000  ...    99.000000  1.455400e+06\n",
              "75%    136757.500000      102.000000  ...   100.000000  1.642576e+06\n",
              "max    136956.000000      118.000000  ...   312.000000  1.886000e+06\n",
              "\n",
              "[8 rows x 6 columns]"
            ]
          },
          "metadata": {},
          "execution_count": 234
        }
      ]
    },
    {
      "cell_type": "code",
      "metadata": {
        "colab": {
          "base_uri": "https://localhost:8080/"
        },
        "id": "RA2Os0n2gdYs",
        "outputId": "fa5de932-2325-436a-b8f6-8a1bd143608d"
      },
      "source": [
        "df.groupby('flight_no').total_amount.sum()"
      ],
      "execution_count": 240,
      "outputs": [
        {
          "output_type": "execute_result",
          "data": {
            "text/plain": [
              "flight_no\n",
              "PG0194    14783184.0\n",
              "PG0252    96912000.0\n",
              "PG0480    41915700.0\n",
              "Name: total_amount, dtype: float64"
            ]
          },
          "metadata": {},
          "execution_count": 240
        }
      ]
    },
    {
      "cell_type": "code",
      "metadata": {
        "colab": {
          "base_uri": "https://localhost:8080/"
        },
        "id": "rx0xHtaIiNzS",
        "outputId": "13bcbe52-923b-4965-a17d-c7c7e4ce45a1"
      },
      "source": [
        "df.groupby('flight_no').flight_time.mean()\n",
        "#PG0194 - Новокузнецк\n",
        "#PG0252 - Москва\n",
        "#PG0480 - Белгород "
      ],
      "execution_count": 241,
      "outputs": [
        {
          "output_type": "execute_result",
          "data": {
            "text/plain": [
              "flight_no\n",
              "PG0194    306.666667\n",
              "PG0252     99.830508\n",
              "PG0480     50.084746\n",
              "Name: flight_time, dtype: float64"
            ]
          },
          "metadata": {},
          "execution_count": 241
        }
      ]
    },
    {
      "cell_type": "markdown",
      "metadata": {
        "id": "YleJs1YaOdU9"
      },
      "source": [
        "Видим сколько времени в среднем уходит на рейс"
      ]
    },
    {
      "cell_type": "code",
      "metadata": {
        "colab": {
          "base_uri": "https://localhost:8080/"
        },
        "id": "VuCoWvczjkme",
        "outputId": "d3461712-bf01-44cc-8ec7-8eefef7671bd"
      },
      "source": [
        "df[df['model'] == 'Boeing 737-300'].flight_no.value_counts()"
      ],
      "execution_count": 242,
      "outputs": [
        {
          "output_type": "execute_result",
          "data": {
            "text/plain": [
              "PG0252    59\n",
              "PG0194     9\n",
              "Name: flight_no, dtype: int64"
            ]
          },
          "metadata": {},
          "execution_count": 242
        }
      ]
    },
    {
      "cell_type": "code",
      "metadata": {
        "colab": {
          "base_uri": "https://localhost:8080/"
        },
        "id": "Yp3RlG5Oj8f8",
        "outputId": "f913cb5e-fc1c-47e7-e0e2-e4567a6d97cc"
      },
      "source": [
        "df[df['model'] == 'Sukhoi Superjet-100'].flight_no.value_counts()"
      ],
      "execution_count": 243,
      "outputs": [
        {
          "output_type": "execute_result",
          "data": {
            "text/plain": [
              "PG0480    59\n",
              "Name: flight_no, dtype: int64"
            ]
          },
          "metadata": {},
          "execution_count": 243
        }
      ]
    },
    {
      "cell_type": "markdown",
      "metadata": {
        "id": "LnD0LCwBOnEZ"
      },
      "source": [
        "Какие модели самолетов на каких рейсах \n"
      ]
    },
    {
      "cell_type": "code",
      "metadata": {
        "colab": {
          "base_uri": "https://localhost:8080/"
        },
        "id": "u3rlgB6SmdXp",
        "outputId": "905a37aa-3a44-4b50-c0e2-2906e16a089c"
      },
      "source": [
        "((df.groupby('flight_no').flight_time.mean().iloc[2] * \n",
        "(1700/60)) * ((41.435 + 39.553)/2))"
      ],
      "execution_count": 244,
      "outputs": [
        {
          "output_type": "execute_result",
          "data": {
            "text/plain": [
              "57463.7313559322"
            ]
          },
          "metadata": {},
          "execution_count": 244
        }
      ]
    },
    {
      "cell_type": "code",
      "metadata": {
        "colab": {
          "base_uri": "https://localhost:8080/"
        },
        "id": "7zm61ruRpmqV",
        "outputId": "54f6973a-74fe-4ba5-dc99-4f040bc59313"
      },
      "source": [
        "((df.groupby('flight_no').flight_time.mean().iloc[0] * \n",
        "(2400/60)) * ((41.435 + 39.553)/2))"
      ],
      "execution_count": 245,
      "outputs": [
        {
          "output_type": "execute_result",
          "data": {
            "text/plain": [
              "496726.4"
            ]
          },
          "metadata": {},
          "execution_count": 245
        }
      ]
    },
    {
      "cell_type": "code",
      "metadata": {
        "colab": {
          "base_uri": "https://localhost:8080/"
        },
        "id": "cOdVKqIEp8P4",
        "outputId": "f17f4846-c83d-4ca7-ed6e-6765633ac129"
      },
      "source": [
        "((df.groupby('flight_no').flight_time.mean().iloc[1] * \n",
        "(2400/60)) * ((41.435 + 39.553)/2))"
      ],
      "execution_count": 246,
      "outputs": [
        {
          "output_type": "execute_result",
          "data": {
            "text/plain": [
              "161701.46440677968"
            ]
          },
          "metadata": {},
          "execution_count": 246
        }
      ]
    },
    {
      "cell_type": "markdown",
      "metadata": {
        "id": "IXYHaE7rOybp"
      },
      "source": [
        "Среднее кол-во топлива за рейс"
      ]
    },
    {
      "cell_type": "code",
      "metadata": {
        "id": "kbmvBwlCr8O0"
      },
      "source": [
        "df['month'] = df['actual_arrival'].dt.month\n",
        "df['day'] =  df['actual_arrival'].dt.day\n",
        "df['date_of_arrival'] = df['actual_arrival'].dt.date\n",
        "df['profit'] =  0"
      ],
      "execution_count": 247,
      "outputs": []
    },
    {
      "cell_type": "code",
      "metadata": {
        "colab": {
          "base_uri": "https://localhost:8080/",
          "height": 649
        },
        "id": "FKhVhPRdYSzR",
        "outputId": "4b491e0b-9cbc-4303-8d56-5ca1a8f86d4f"
      },
      "source": [
        "df[df['flight_no'] == 'PG0194']"
      ],
      "execution_count": 267,
      "outputs": [
        {
          "output_type": "execute_result",
          "data": {
            "text/html": [
              "<div>\n",
              "<style scoped>\n",
              "    .dataframe tbody tr th:only-of-type {\n",
              "        vertical-align: middle;\n",
              "    }\n",
              "\n",
              "    .dataframe tbody tr th {\n",
              "        vertical-align: top;\n",
              "    }\n",
              "\n",
              "    .dataframe thead th {\n",
              "        text-align: right;\n",
              "    }\n",
              "</style>\n",
              "<table border=\"1\" class=\"dataframe\">\n",
              "  <thead>\n",
              "    <tr style=\"text-align: right;\">\n",
              "      <th></th>\n",
              "      <th>flight_id</th>\n",
              "      <th>flight_no</th>\n",
              "      <th>departure_airport</th>\n",
              "      <th>arrival_airport</th>\n",
              "      <th>model</th>\n",
              "      <th>actual_arrival</th>\n",
              "      <th>actual_departure</th>\n",
              "      <th>ticket_economy</th>\n",
              "      <th>ticket_comfort</th>\n",
              "      <th>ticket_business</th>\n",
              "      <th>flight_time</th>\n",
              "      <th>total_amount</th>\n",
              "      <th>month</th>\n",
              "      <th>day</th>\n",
              "      <th>date_of_arrival</th>\n",
              "      <th>profit</th>\n",
              "    </tr>\n",
              "  </thead>\n",
              "  <tbody>\n",
              "    <tr>\n",
              "      <th>59</th>\n",
              "      <td>136511</td>\n",
              "      <td>PG0194</td>\n",
              "      <td>AAQ</td>\n",
              "      <td>NOZ</td>\n",
              "      <td>Boeing 737-300</td>\n",
              "      <td>2017-02-21 11:25:00+00:00</td>\n",
              "      <td>2017-02-21T06:15:00Z</td>\n",
              "      <td>102.0</td>\n",
              "      <td>0.0</td>\n",
              "      <td>10.0</td>\n",
              "      <td>310.0</td>\n",
              "      <td>1642576.0</td>\n",
              "      <td>2</td>\n",
              "      <td>21</td>\n",
              "      <td>2017-02-21</td>\n",
              "      <td>1145849.0</td>\n",
              "    </tr>\n",
              "    <tr>\n",
              "      <th>60</th>\n",
              "      <td>136513</td>\n",
              "      <td>PG0194</td>\n",
              "      <td>AAQ</td>\n",
              "      <td>NOZ</td>\n",
              "      <td>Boeing 737-300</td>\n",
              "      <td>2017-02-28 11:23:00+00:00</td>\n",
              "      <td>2017-02-28T06:13:00Z</td>\n",
              "      <td>102.0</td>\n",
              "      <td>0.0</td>\n",
              "      <td>10.0</td>\n",
              "      <td>310.0</td>\n",
              "      <td>1642576.0</td>\n",
              "      <td>2</td>\n",
              "      <td>28</td>\n",
              "      <td>2017-02-28</td>\n",
              "      <td>1145849.0</td>\n",
              "    </tr>\n",
              "    <tr>\n",
              "      <th>61</th>\n",
              "      <td>136514</td>\n",
              "      <td>PG0194</td>\n",
              "      <td>AAQ</td>\n",
              "      <td>NOZ</td>\n",
              "      <td>Boeing 737-300</td>\n",
              "      <td>2017-02-07 11:13:00+00:00</td>\n",
              "      <td>2017-02-07T06:14:00Z</td>\n",
              "      <td>102.0</td>\n",
              "      <td>0.0</td>\n",
              "      <td>10.0</td>\n",
              "      <td>299.0</td>\n",
              "      <td>1642576.0</td>\n",
              "      <td>2</td>\n",
              "      <td>7</td>\n",
              "      <td>2017-02-07</td>\n",
              "      <td>1145849.0</td>\n",
              "    </tr>\n",
              "    <tr>\n",
              "      <th>62</th>\n",
              "      <td>136523</td>\n",
              "      <td>PG0194</td>\n",
              "      <td>AAQ</td>\n",
              "      <td>NOZ</td>\n",
              "      <td>Boeing 737-300</td>\n",
              "      <td>2017-01-10 11:26:00+00:00</td>\n",
              "      <td>2017-01-10T06:14:00Z</td>\n",
              "      <td>102.0</td>\n",
              "      <td>0.0</td>\n",
              "      <td>10.0</td>\n",
              "      <td>312.0</td>\n",
              "      <td>1642576.0</td>\n",
              "      <td>1</td>\n",
              "      <td>10</td>\n",
              "      <td>2017-01-10</td>\n",
              "      <td>1145849.0</td>\n",
              "    </tr>\n",
              "    <tr>\n",
              "      <th>63</th>\n",
              "      <td>136540</td>\n",
              "      <td>PG0194</td>\n",
              "      <td>AAQ</td>\n",
              "      <td>NOZ</td>\n",
              "      <td>Boeing 737-300</td>\n",
              "      <td>2017-01-17 11:21:00+00:00</td>\n",
              "      <td>2017-01-17T06:14:00Z</td>\n",
              "      <td>102.0</td>\n",
              "      <td>0.0</td>\n",
              "      <td>10.0</td>\n",
              "      <td>307.0</td>\n",
              "      <td>1642576.0</td>\n",
              "      <td>1</td>\n",
              "      <td>17</td>\n",
              "      <td>2017-01-17</td>\n",
              "      <td>1145849.0</td>\n",
              "    </tr>\n",
              "    <tr>\n",
              "      <th>64</th>\n",
              "      <td>136544</td>\n",
              "      <td>PG0194</td>\n",
              "      <td>AAQ</td>\n",
              "      <td>NOZ</td>\n",
              "      <td>Boeing 737-300</td>\n",
              "      <td>2017-01-31 11:14:00+00:00</td>\n",
              "      <td>2017-01-31T06:10:00Z</td>\n",
              "      <td>102.0</td>\n",
              "      <td>0.0</td>\n",
              "      <td>10.0</td>\n",
              "      <td>304.0</td>\n",
              "      <td>1642576.0</td>\n",
              "      <td>1</td>\n",
              "      <td>31</td>\n",
              "      <td>2017-01-31</td>\n",
              "      <td>1145849.0</td>\n",
              "    </tr>\n",
              "    <tr>\n",
              "      <th>65</th>\n",
              "      <td>136546</td>\n",
              "      <td>PG0194</td>\n",
              "      <td>AAQ</td>\n",
              "      <td>NOZ</td>\n",
              "      <td>Boeing 737-300</td>\n",
              "      <td>2017-01-03 11:15:00+00:00</td>\n",
              "      <td>2017-01-03T06:13:00Z</td>\n",
              "      <td>102.0</td>\n",
              "      <td>0.0</td>\n",
              "      <td>10.0</td>\n",
              "      <td>302.0</td>\n",
              "      <td>1642576.0</td>\n",
              "      <td>1</td>\n",
              "      <td>3</td>\n",
              "      <td>2017-01-03</td>\n",
              "      <td>1145849.0</td>\n",
              "    </tr>\n",
              "    <tr>\n",
              "      <th>66</th>\n",
              "      <td>136560</td>\n",
              "      <td>PG0194</td>\n",
              "      <td>AAQ</td>\n",
              "      <td>NOZ</td>\n",
              "      <td>Boeing 737-300</td>\n",
              "      <td>2017-01-24 11:18:00+00:00</td>\n",
              "      <td>2017-01-24T06:13:00Z</td>\n",
              "      <td>102.0</td>\n",
              "      <td>0.0</td>\n",
              "      <td>10.0</td>\n",
              "      <td>305.0</td>\n",
              "      <td>1642576.0</td>\n",
              "      <td>1</td>\n",
              "      <td>24</td>\n",
              "      <td>2017-01-24</td>\n",
              "      <td>1145849.0</td>\n",
              "    </tr>\n",
              "    <tr>\n",
              "      <th>67</th>\n",
              "      <td>136567</td>\n",
              "      <td>PG0194</td>\n",
              "      <td>AAQ</td>\n",
              "      <td>NOZ</td>\n",
              "      <td>Boeing 737-300</td>\n",
              "      <td>2017-02-14 11:23:00+00:00</td>\n",
              "      <td>2017-02-14T06:12:00Z</td>\n",
              "      <td>102.0</td>\n",
              "      <td>0.0</td>\n",
              "      <td>10.0</td>\n",
              "      <td>311.0</td>\n",
              "      <td>1642576.0</td>\n",
              "      <td>2</td>\n",
              "      <td>14</td>\n",
              "      <td>2017-02-14</td>\n",
              "      <td>1145849.0</td>\n",
              "    </tr>\n",
              "  </tbody>\n",
              "</table>\n",
              "</div>"
            ],
            "text/plain": [
              "    flight_id flight_no departure_airport  ... day date_of_arrival     profit\n",
              "59     136511    PG0194               AAQ  ...  21      2017-02-21  1145849.0\n",
              "60     136513    PG0194               AAQ  ...  28      2017-02-28  1145849.0\n",
              "61     136514    PG0194               AAQ  ...   7      2017-02-07  1145849.0\n",
              "62     136523    PG0194               AAQ  ...  10      2017-01-10  1145849.0\n",
              "63     136540    PG0194               AAQ  ...  17      2017-01-17  1145849.0\n",
              "64     136544    PG0194               AAQ  ...  31      2017-01-31  1145849.0\n",
              "65     136546    PG0194               AAQ  ...   3      2017-01-03  1145849.0\n",
              "66     136560    PG0194               AAQ  ...  24      2017-01-24  1145849.0\n",
              "67     136567    PG0194               AAQ  ...  14      2017-02-14  1145849.0\n",
              "\n",
              "[9 rows x 16 columns]"
            ]
          },
          "metadata": {},
          "execution_count": 267
        }
      ]
    },
    {
      "cell_type": "code",
      "metadata": {
        "id": "gptJU8m8w_Wa"
      },
      "source": [
        "for i in range(len(df)):\n",
        "  if df['flight_no'].iloc[i] == 'PG0194':\n",
        "    df['profit'].iloc[i] = (df['total_amount'].iloc[i] - \n",
        "                        ((df.groupby('flight_no').flight_time.mean().iloc[0] * \n",
        "                          (2400/60)) * ((41.435 + 39.553)/2)))//1\n",
        "  elif df['flight_no'].iloc[i] == 'PG0252':\n",
        "    df['profit'].iloc[i] = (df['total_amount'].iloc[i] - \n",
        "                        ((df.groupby('flight_no').flight_time.mean().iloc[1] *\n",
        "                          (2400/60)) * ((41.435 + 39.553)/2)))//1\n",
        "  elif df['flight_no'].iloc[i] == 'PG0480':\n",
        "    df['profit'].iloc[i] = (df['total_amount'].iloc[i] - \n",
        "                        ((df.groupby('flight_no').flight_time.mean().iloc[2] *\n",
        "                          (2400/60)) * ((41.435 + 39.553)/2)))//1\n",
        "\n"
      ],
      "execution_count": 248,
      "outputs": []
    },
    {
      "cell_type": "markdown",
      "metadata": {
        "id": "mBW09HahO4Vs"
      },
      "source": [
        "Прибыль за каждый рейс, на основе вычета цены за топливо из выручки\n"
      ]
    },
    {
      "cell_type": "code",
      "metadata": {
        "colab": {
          "base_uri": "https://localhost:8080/",
          "height": 603
        },
        "id": "mntodJm5YYal",
        "outputId": "4be9b201-3c66-4d6f-8b91-03f2c5969cad"
      },
      "source": [
        "group_date = df.groupby('date_of_arrival').sum()\n",
        "#group_date['month'] = group_date['date_of_arrival'].dt.month\n",
        "#group_date['day'] = group_date['date_of_arrival'].dt.date\n",
        "group_date['profit'].plot.bar(x=group_date.index, \n",
        "                              figsize=(16,8),\n",
        "                              fontsize=15)"
      ],
      "execution_count": 277,
      "outputs": [
        {
          "output_type": "execute_result",
          "data": {
            "text/plain": [
              "<matplotlib.axes._subplots.AxesSubplot at 0x7f245ff901d0>"
            ]
          },
          "metadata": {},
          "execution_count": 277
        },
        {
          "output_type": "display_data",
          "data": {
            "image/png": "[encoded data removed]",
            "text/plain": [
              "<Figure size 1152x576 with 1 Axes>"
            ]
          },
          "metadata": {
            "needs_background": "light"
          }
        }
      ]
    },
    {
      "cell_type": "code",
      "metadata": {
        "colab": {
          "base_uri": "https://localhost:8080/",
          "height": 1000
        },
        "id": "KON5_2Ufi5bh",
        "outputId": "331d82e2-d84d-4e8d-eea9-589b9abc8786"
      },
      "source": [
        "group_date['date'] = group_date.index\n",
        "group_date['date'] = pd.to_datetime(group_date['date'])\n",
        "group_date['month'] = group_date['date'].dt.month\n",
        "group_date.groupby('month').plot.bar(x='date',\n",
        "                                     y='profit',\n",
        "                                               figsize=(16,8),\n",
        "                                               fontsize=15)"
      ],
      "execution_count": 279,
      "outputs": [
        {
          "output_type": "execute_result",
          "data": {
            "text/plain": [
              "month\n",
              "1    AxesSubplot(0.125,0.125;0.775x0.755)\n",
              "2    AxesSubplot(0.125,0.125;0.775x0.755)\n",
              "dtype: object"
            ]
          },
          "metadata": {},
          "execution_count": 279
        },
        {
          "output_type": "display_data",
          "data": {
            "image/png": "[encoded data removed]",
            "text/plain": [
              "<Figure size 1152x576 with 1 Axes>"
            ]
          },
          "metadata": {
            "needs_background": "light"
          }
        },
        {
          "output_type": "display_data",
          "data": {
            "image/png": "[encoded data removed]",
            "text/plain": [
              "<Figure size 1152x576 with 1 Axes>"
            ]
          },
          "metadata": {
            "needs_background": "light"
          }
        }
      ]
    },
    {
      "cell_type": "code",
      "metadata": {
        "colab": {
          "base_uri": "https://localhost:8080/",
          "height": 142
        },
        "id": "TQWrRgPJlrEe",
        "outputId": "37dfc67b-df0b-4376-b863-5a97a3caeda6"
      },
      "source": [
        "group_date.groupby('month').sum()"
      ],
      "execution_count": 293,
      "outputs": [
        {
          "output_type": "execute_result",
          "data": {
            "text/html": [
              "<div>\n",
              "<style scoped>\n",
              "    .dataframe tbody tr th:only-of-type {\n",
              "        vertical-align: middle;\n",
              "    }\n",
              "\n",
              "    .dataframe tbody tr th {\n",
              "        vertical-align: top;\n",
              "    }\n",
              "\n",
              "    .dataframe thead th {\n",
              "        text-align: right;\n",
              "    }\n",
              "</style>\n",
              "<table border=\"1\" class=\"dataframe\">\n",
              "  <thead>\n",
              "    <tr style=\"text-align: right;\">\n",
              "      <th></th>\n",
              "      <th>flight_id</th>\n",
              "      <th>ticket_economy</th>\n",
              "      <th>ticket_comfort</th>\n",
              "      <th>ticket_business</th>\n",
              "      <th>flight_time</th>\n",
              "      <th>total_amount</th>\n",
              "      <th>day</th>\n",
              "      <th>profit</th>\n",
              "    </tr>\n",
              "    <tr>\n",
              "      <th>month</th>\n",
              "      <th></th>\n",
              "      <th></th>\n",
              "      <th></th>\n",
              "      <th></th>\n",
              "      <th></th>\n",
              "      <th></th>\n",
              "      <th></th>\n",
              "      <th></th>\n",
              "    </tr>\n",
              "  </thead>\n",
              "  <tbody>\n",
              "    <tr>\n",
              "      <th>1</th>\n",
              "      <td>295077.806452</td>\n",
              "      <td>198.935484</td>\n",
              "      <td>0.0</td>\n",
              "      <td>23.322581</td>\n",
              "      <td>199.161290</td>\n",
              "      <td>2.630793e+06</td>\n",
              "      <td>34.741935</td>\n",
              "      <td>2.307848e+06</td>\n",
              "    </tr>\n",
              "    <tr>\n",
              "      <th>2</th>\n",
              "      <td>292584.000000</td>\n",
              "      <td>195.464286</td>\n",
              "      <td>0.0</td>\n",
              "      <td>22.857143</td>\n",
              "      <td>193.964286</td>\n",
              "      <td>2.573439e+06</td>\n",
              "      <td>31.500000</td>\n",
              "      <td>2.259650e+06</td>\n",
              "    </tr>\n",
              "  </tbody>\n",
              "</table>\n",
              "</div>"
            ],
            "text/plain": [
              "           flight_id  ticket_economy  ...        day        profit\n",
              "month                                 ...                         \n",
              "1      295077.806452      198.935484  ...  34.741935  2.307848e+06\n",
              "2      292584.000000      195.464286  ...  31.500000  2.259650e+06\n",
              "\n",
              "[2 rows x 8 columns]"
            ]
          },
          "metadata": {},
          "execution_count": 293
        }
      ]
    },
    {
      "cell_type": "code",
      "metadata": {
        "colab": {
          "base_uri": "https://localhost:8080/",
          "height": 1000
        },
        "id": "-gnrkOa54GP9",
        "outputId": "7528fe01-c933-4f1a-a7de-27b1683d094a"
      },
      "source": [
        "df.sort_values('date_of_arrival').groupby('flight_no').plot.bar(x='date_of_arrival',\n",
        "                                    y='profit',\n",
        "                                    alpha = 0.5,\n",
        "                                    rot=45,\n",
        "                                    grid=True,\n",
        "                                    figsize=(30,8),\n",
        "                                    fontsize=15, \n",
        "                                    legend=True\n",
        "                                    )"
      ],
      "execution_count": 296,
      "outputs": [
        {
          "output_type": "execute_result",
          "data": {
            "text/plain": [
              "flight_no\n",
              "PG0194    AxesSubplot(0.125,0.125;0.775x0.755)\n",
              "PG0252    AxesSubplot(0.125,0.125;0.775x0.755)\n",
              "PG0480    AxesSubplot(0.125,0.125;0.775x0.755)\n",
              "dtype: object"
            ]
          },
          "metadata": {},
          "execution_count": 296
        },
        {
          "output_type": "display_data",
          "data": {
            "image/png": "[encoded data removed]",
            "text/plain": [
              "<Figure size 2160x576 with 1 Axes>"
            ]
          },
          "metadata": {
            "needs_background": "light"
          }
        },
        {
          "output_type": "display_data",
          "data": {
            "image/png": "[encoded data removed]",
            "text/plain": [
              "<Figure size 2160x576 with 1 Axes>"
            ]
          },
          "metadata": {
            "needs_background": "light"
          }
        },
        {
          "output_type": "display_data",
          "data": {
            "image/png": "[encoded data removed]",
            "text/plain": [
              "<Figure size 2160x576 with 1 Axes>"
            ]
          },
          "metadata": {
            "needs_background": "light"
          }
        }
      ]
    },
    {
      "cell_type": "code",
      "metadata": {
        "id": "Mn2LMBtpAbIU"
      },
      "source": [
        ""
      ],
      "execution_count": null,
      "outputs": []
    }
  ]
}